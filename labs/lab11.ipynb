{
 "cells": [
  {
   "cell_type": "markdown",
   "id": "a2dacc99-aa89-4788-9e11-321b2de90441",
   "metadata": {},
   "source": [
    "# Lab 11: evolutionary invasion analysis"
   ]
  },
  {
   "cell_type": "markdown",
   "id": "22abcd29-07ae-4463-b16b-c1672adab7d1",
   "metadata": {},
   "source": [
    "Natural selection at the individual level favours *individuals* with higher fitness, but does this always lead to larger *populations*?\n",
    "\n",
    "Here we'll use evolutionary invasion analysis to address this question."
   ]
  },
  {
   "cell_type": "markdown",
   "id": "4a70e60c-b9ce-43e6-84e8-0a35df99ae55",
   "metadata": {},
   "source": [
    "We start with the classic Lotka-Volterra model of competition in discrete time\n",
    "\n",
    "$\\displaystyle{n_i(t+1) = n_i(t) \\left(1 + r \\left(1 - \\frac{n_i(t) + a_{ij} n_j(t)}{k_i}\\right)\\right)}$\n",
    "\n",
    "$\\displaystyle{n_j(t+1) = n_j(t) \\left(1 + r \\left(1 - \\frac{n_j(t) + a_{ji} n_i(t)}{k_j}\\right)\\right)}$\n",
    "\n",
    "where here we'll interpret $n_i$ and $n_j$ as the numbers of two genotypes in an asexually reproducing population. In particular, we'll let $n_i = n$ be the number of resident genotypes and $n_j = n_m$ be the number of mutant genotypes."
   ]
  },
  {
   "cell_type": "markdown",
   "id": "87ef49be-7b9f-4833-ae45-78309ed36a94",
   "metadata": {},
   "source": [
    "The carrying capacity, $k$, will be a function of the trait value, $z$, of the given genotype, \n",
    "\n",
    "$\\displaystyle{k(z) = k_0 e^{-log(z/z_0)^2 / (2v^2)}}$"
   ]
  },
  {
   "cell_type": "markdown",
   "id": "fe4150ef-8ac4-44ea-8a73-ea07c161975b",
   "metadata": {},
   "source": [
    "**Q1.** [1 point] Define this function k(z) in general and plot it from $z=0$ to $z=100$ for $k_0=1$, $z_0=10$, and $v=1$."
   ]
  },
  {
   "cell_type": "code",
   "execution_count": null,
   "id": "96cfaaa7-0b7d-4ea5-ac6c-2a248220aa28",
   "metadata": {},
   "outputs": [],
   "source": []
  },
  {
   "cell_type": "markdown",
   "id": "26e3d299-87ef-45cf-8db5-9ce9d107b7a5",
   "metadata": {},
   "source": [
    "**Q2.** [1 point] What trait value maximizes $k$ (and therefore maximizes population size of a single genotype)? Hint: use the derivative of $k(z)$."
   ]
  },
  {
   "cell_type": "code",
   "execution_count": null,
   "id": "aeac830f-3f1c-4187-bdd7-9cc94358c0d7",
   "metadata": {},
   "outputs": [],
   "source": []
  },
  {
   "cell_type": "markdown",
   "id": "42e39f66-85a2-44f5-89cf-ea486238d06e",
   "metadata": {},
   "source": [
    "The competitive effect of an individual with trait $z_j$ on an individual with trait $z_i$, $a_{ij}$, will be a function of $z_i$ and $z_j$\n",
    "\n",
    "$\\displaystyle{a(z_i,z_j) = e^{-(z_i-z_j)B - (z_i-z_j)^2/(4s^2)}}$"
   ]
  },
  {
   "cell_type": "markdown",
   "id": "61e83af0-3ef2-463e-a751-3f0163f8215e",
   "metadata": {},
   "source": [
    "**Q3.** [1 point] Define the function $a(z_i, z_j)$ in general and plot it from $z_j = 1$ to $z_j = 100$ for $z_i=10$, $B=0.03$, and $s=20$."
   ]
  },
  {
   "cell_type": "code",
   "execution_count": null,
   "id": "c2028294-bddf-445c-954e-e4b82dca396a",
   "metadata": {},
   "outputs": [],
   "source": []
  },
  {
   "cell_type": "markdown",
   "id": "a792d0fc-5d2a-4f1e-9374-de53a6d45575",
   "metadata": {},
   "source": [
    "**Q4.** [2 points] What trait value gives the strongest competitive effect on an individual with trait value $z_i$? (Hint, use the derivative of $a(z_i,z_j)$ with respect to $z_j$.) When $B>0$ and $s\\neq 0$, what does this imply about how competition selects on trait value? I.e., does it favour individuals with larger or smaller trait values?"
   ]
  },
  {
   "cell_type": "code",
   "execution_count": null,
   "id": "182e96a3-b996-40cf-b388-a9d464d52de3",
   "metadata": {},
   "outputs": [],
   "source": []
  },
  {
   "cell_type": "markdown",
   "id": "086ab1e7-61cb-4f4a-9ee7-14166d801d59",
   "metadata": {},
   "source": [
    "With these two functions defined we are now ready to write down the dynamics of resident and mutant, with trait values $z$ and $z_m$, respectively\n",
    "\n",
    "$\\displaystyle{n(t+1) = n(t) \\left(1 + r \\left(1 - \\frac{n(t) + a(z,z_m) n_m(t)}{k(z)}\\right)\\right)}$\n",
    "\n",
    "$\\displaystyle{n_m(t+1) = n_m(t) \\left(1 + r \\left(1 - \\frac{n_m(t) + a(z_m,z) n(t)}{k(z_m)}\\right)\\right)}$"
   ]
  },
  {
   "cell_type": "markdown",
   "id": "5ad5a3a0-7f8a-41da-839f-7b30101fba05",
   "metadata": {},
   "source": [
    "**Q5.** [1 point] Define these two recursions and solve for the equilibria. Hint: solve for when both equations are zero simultaneously (see examples with ```?solve```)."
   ]
  },
  {
   "cell_type": "code",
   "execution_count": null,
   "id": "a3d61543-818e-4b7b-8423-171c4b0793a2",
   "metadata": {},
   "outputs": [],
   "source": []
  },
  {
   "cell_type": "markdown",
   "id": "74d17452-f00d-472e-8fcd-cc82a412a35b",
   "metadata": {},
   "source": [
    "**Q6.** [1 point] Generate the Jacobian of this system and evaluate it at the equilibrium with some resident genotypes, $\\hat{n}>0$, but no mutants, $\\hat{n}_m = 0$. Hint, try out the ```jacobian``` function to save a line or two."
   ]
  },
  {
   "cell_type": "code",
   "execution_count": null,
   "id": "b2cef625-cdb2-4cff-bf1d-b49ecfd7bfe4",
   "metadata": {},
   "outputs": [],
   "source": []
  },
  {
   "cell_type": "markdown",
   "id": "85b68596-5e62-4213-abd6-d168d4bd25a2",
   "metadata": {},
   "source": [
    "**Q7.** [3 points] Get the two eigenvalues of the Jacobian at this equilibrium. \n",
    "\n",
    "Which one describes the stability of the resident equilibrium in the absence of the mutant? What is required for the resident equilibrium to be stable in the absence of the mutant? \n",
    "\n",
    "The other eigenvalue determines the stability of the resident equilibrium in the presence of a small number of mutants. Define this eigenvalue as the invasion fitness."
   ]
  },
  {
   "cell_type": "code",
   "execution_count": null,
   "id": "36596a25-2082-4cbe-a958-3a377996de55",
   "metadata": {},
   "outputs": [],
   "source": []
  },
  {
   "cell_type": "markdown",
   "id": "1faa1df3-7177-4365-b387-40309eee6258",
   "metadata": {},
   "source": [
    "**Q8.** [2 points] Make the pairwise invasibility plot (PIP) for $k_0=1$, $z_0=10$, $v=1$, $B=0.04$, $s=20$, and $r=1$ from $z=1$ to $z=100$ on the x-axis and $z_m=1$ to $z_m=100$ on the y-axis. Hint, do this in 2 parts: 1) use ```region_plot``` to colour in where invasion fitness is greater than 1 and 2) use ```implicit_plot``` to draw black lines where invasion fitness is exactly 1.    "
   ]
  },
  {
   "cell_type": "code",
   "execution_count": null,
   "id": "d72681fa-33c2-43b8-b002-13423f01a377",
   "metadata": {},
   "outputs": [],
   "source": []
  },
  {
   "cell_type": "markdown",
   "id": "358adae3-12b9-486e-8848-775acaf2cffe",
   "metadata": {},
   "source": [
    "**Q9.** [2 points] How many singular strategies do you see? How do we expect $z$ to evolve?"
   ]
  },
  {
   "cell_type": "code",
   "execution_count": null,
   "id": "2c58f124-487b-40c5-9a76-e78a1ee81a2a",
   "metadata": {},
   "outputs": [],
   "source": []
  },
  {
   "cell_type": "markdown",
   "id": "0020f643-5b40-4db0-96d7-8f04a0073d25",
   "metadata": {},
   "source": [
    "**Q10.** [1 point] What does this imply about population size in the long-term? Hint, population size as a function of $z$ is given by the resident equilibrium you calculated in Q5, which is given in Q1. "
   ]
  },
  {
   "cell_type": "code",
   "execution_count": null,
   "id": "dcc87b6e-1638-4986-8b0c-084e8e18cc17",
   "metadata": {},
   "outputs": [],
   "source": []
  },
  {
   "cell_type": "markdown",
   "id": "f353b0f1-9e03-48d5-80f9-c3b8b8b602a6",
   "metadata": {},
   "source": [
    "**Bonus (ie, just for fun :)).** Make another PIP, this time with $B=0.03$."
   ]
  },
  {
   "cell_type": "code",
   "execution_count": null,
   "id": "57ce6f4b-defc-47b9-98d4-3dc75fc2a6a0",
   "metadata": {},
   "outputs": [],
   "source": []
  },
  {
   "cell_type": "markdown",
   "id": "71e435d2-a720-41f3-a45e-417fb0caffce",
   "metadata": {},
   "source": [
    "**Bonus bonus.** How many singular strategies do you see? Which are evolutionarily stable? Which are convergently stable? How do we expect evolution to proceed in the long-run?"
   ]
  },
  {
   "cell_type": "code",
   "execution_count": null,
   "id": "b40914a0-9d38-4065-8023-30cf67726ddc",
   "metadata": {},
   "outputs": [],
   "source": []
  }
 ],
 "metadata": {
  "kernelspec": {
   "display_name": "SageMath 9.2",
   "language": "sage",
   "name": "sagemath"
  },
  "language_info": {
   "codemirror_mode": {
    "name": "ipython",
    "version": 3
   },
   "file_extension": ".py",
   "mimetype": "text/x-python",
   "name": "python",
   "nbconvert_exporter": "python",
   "pygments_lexer": "ipython3",
   "version": "3.9.6"
  }
 },
 "nbformat": 4,
 "nbformat_minor": 5
}
