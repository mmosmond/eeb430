{
 "cells": [
  {
   "cell_type": "markdown",
   "id": "58726a33-8e13-4102-8466-22638ab98837",
   "metadata": {},
   "source": [
    "# Lab 5 - general solutions of univariate models"
   ]
  },
  {
   "cell_type": "markdown",
   "id": "b1815958-2b93-4101-9a77-aa215f21dad8",
   "metadata": {},
   "source": [
    "OK, this week we'll see how we can use SageMath to solve for general solutions, ie our variable of interest as a function of time. "
   ]
  },
  {
   "cell_type": "markdown",
   "id": "04da8b35-1189-4c6b-bf64-db3ecc09ce21",
   "metadata": {},
   "source": [
    "## Discrete time"
   ]
  },
  {
   "cell_type": "markdown",
   "id": "0442b789-4926-4448-a89f-2da5858a4911",
   "metadata": {},
   "source": [
    "To solve recursion equations in SageMath we need to explicitly use Maxima (one of the main engines behind SageMath)"
   ]
  },
  {
   "cell_type": "code",
   "execution_count": 1,
   "id": "83cf6685-cfe0-493a-a478-c5229a95b14a",
   "metadata": {},
   "outputs": [],
   "source": [
    "maxima.load('solve_rec'); #load this maxima function"
   ]
  },
  {
   "cell_type": "markdown",
   "id": "057c74ce-e241-4eb9-ad4a-60946f353ffd",
   "metadata": {},
   "source": [
    "Now solve the exponential growth model"
   ]
  },
  {
   "cell_type": "code",
   "execution_count": 4,
   "id": "336ab156-1d52-41c9-8d61-32aad830c8fb",
   "metadata": {},
   "outputs": [
    {
     "data": {
      "text/html": [
       "<html><script type=\"math/tex; mode=display\">\\newcommand{\\Bold}[1]{\\mathbf{#1}}n_{t}=R^{t}\\,n_{0}</script></html>"
      ],
      "text/latex": [
       "\\begin{math}\n",
       "\\newcommand{\\Bold}[1]{\\mathbf{#1}}n_{t}=R^{t}\\,n_{0}\n",
       "\\end{math}"
      ],
      "text/plain": [
       "n[t]=R^t*n0"
      ]
     },
     "metadata": {},
     "output_type": "display_data"
    }
   ],
   "source": [
    "sol = maxima('solve_rec(n[t+1]=R*n[t], n[t], n[0]=n0)') #solve the recurrence equation for exponential growth\n",
    "show(sol)"
   ]
  },
  {
   "cell_type": "markdown",
   "id": "9950f5e0-0cc7-49c4-a4f8-b5b4c7e2a1f8",
   "metadata": {},
   "source": [
    "This also works for affine models"
   ]
  },
  {
   "cell_type": "code",
   "execution_count": 5,
   "id": "04c7f5e9-8c6f-4c6b-abb8-1482415dbda7",
   "metadata": {},
   "outputs": [
    {
     "data": {
      "text/html": [
       "<html><script type=\"math/tex; mode=display\">\\newcommand{\\Bold}[1]{\\mathbf{#1}}n_{t}=R^{t}\\,n_{0}+{{R^{t}\\,m}\\over{R-1}}-{{m}\\over{R-1}}</script></html>"
      ],
      "text/latex": [
       "\\begin{math}\n",
       "\\newcommand{\\Bold}[1]{\\mathbf{#1}}n_{t}=R^{t}\\,n_{0}+{{R^{t}\\,m}\\over{R-1}}-{{m}\\over{R-1}}\n",
       "\\end{math}"
      ],
      "text/plain": [
       "n[t]=R^t*n0+(R^t*m)/(R-1)-m/(R-1)"
      ]
     },
     "metadata": {},
     "output_type": "display_data"
    }
   ],
   "source": [
    "sol = maxima('solve_rec(n[t+1]=R*n[t]+m, n[t], n[0]=n0)') #solve the recurrence equation for exponential growth with migration\n",
    "show(sol)"
   ]
  },
  {
   "cell_type": "markdown",
   "id": "813b63fa-cb12-40c3-a9fa-7f4b5f93f0be",
   "metadata": {},
   "source": [
    "And for the model of haploid selection"
   ]
  },
  {
   "cell_type": "code",
   "execution_count": 6,
   "id": "f6c250aa-8dac-4bb5-a393-842d26935c6a",
   "metadata": {},
   "outputs": [
    {
     "data": {
      "text/html": [
       "<html><script type=\"math/tex; mode=display\">\\newcommand{\\Bold}[1]{\\mathbf{#1}}p_{t}=-{{\\left(-{{{\\it WA}}\\over{{\\it Wa}-{\\it WA}}}\\right)^{t}\\,  p_{0}}\\over{\\left(-{{{\\it Wa}}\\over{{\\it Wa}-{\\it WA}}}\\right)^{t}\\,  p_{0}-\\left(-{{{\\it WA}}\\over{{\\it Wa}-{\\it WA}}}\\right)^{t}\\,p_{0}-  \\left(-{{{\\it Wa}}\\over{{\\it Wa}-{\\it WA}}}\\right)^{t}}}</script></html>"
      ],
      "text/latex": [
       "\\begin{math}\n",
       "\\newcommand{\\Bold}[1]{\\mathbf{#1}}p_{t}=-{{\\left(-{{{\\it WA}}\\over{{\\it Wa}-{\\it WA}}}\\right)^{t}\\,  p_{0}}\\over{\\left(-{{{\\it Wa}}\\over{{\\it Wa}-{\\it WA}}}\\right)^{t}\\,  p_{0}-\\left(-{{{\\it WA}}\\over{{\\it Wa}-{\\it WA}}}\\right)^{t}\\,p_{0}-  \\left(-{{{\\it Wa}}\\over{{\\it Wa}-{\\it WA}}}\\right)^{t}}}\n",
       "\\end{math}"
      ],
      "text/plain": [
       "p[t]=-((-WA/(Wa-WA))^t*p0)/((-Wa/(Wa-WA))^t*p0-(-WA/(Wa-WA))^t*p0-(-Wa/(Wa-WA))^t)"
      ]
     },
     "metadata": {},
     "output_type": "display_data"
    }
   ],
   "source": [
    "sol = maxima('solve_rec(p[t+1]=(p[t]*WA)/(p[t]*WA+(1-p[t])*Wa), p[t], p[0]=p0)') #solve the recurrence equation for haploid selection\n",
    "show(sol.factor())"
   ]
  },
  {
   "cell_type": "markdown",
   "id": "1dde2b5f-42cb-46f4-8702-b119de9f1963",
   "metadata": {},
   "source": [
    "But let's skip to continuous time, where we can solve more equations"
   ]
  },
  {
   "cell_type": "markdown",
   "id": "925748d1-39e9-47f4-af08-770ec4fadd87",
   "metadata": {},
   "source": [
    "## Continuous time"
   ]
  },
  {
   "cell_type": "markdown",
   "id": "5d14c9d5-17aa-4fef-94ab-88cc6e5a6470",
   "metadata": {},
   "source": [
    "In lab 2, when introducing differential equations, we already saw how we can use ```desolve``` to get the general solutions for exponential growth, logistic growth, and haploid selection"
   ]
  },
  {
   "cell_type": "code",
   "execution_count": 3,
   "id": "310d7ec7-40eb-4010-bc0a-a0d9490419ce",
   "metadata": {},
   "outputs": [
    {
     "data": {
      "text/html": [
       "<html><script type=\"math/tex; mode=display\">\\newcommand{\\Bold}[1]{\\mathbf{#1}}n_{0} e^{\\left(r t\\right)}</script></html>"
      ],
      "text/latex": [
       "\\begin{math}\n",
       "\\newcommand{\\Bold}[1]{\\mathbf{#1}}n_{0} e^{\\left(r t\\right)}\n",
       "\\end{math}"
      ],
      "text/plain": [
       "n0*e^(r*t)"
      ]
     },
     "metadata": {},
     "output_type": "display_data"
    }
   ],
   "source": [
    "# exponential growth\n",
    "\n",
    "r,t,n0 = var('r, t, n0') #define the parameters\n",
    "n = function('n')(t) #define a general function\n",
    "\n",
    "f = desolve(\n",
    "    diff(n(t),t) == r * n(t), #the differential equation we want to solve\n",
    "    n(t), #the function we want to solve for\n",
    "    ivar = t, #the independent variable we want the function to be of\n",
    "    ics = [0, n0] #the initial conditions (t0, n0)\n",
    ")\n",
    "\n",
    "show(f)"
   ]
  },
  {
   "cell_type": "code",
   "execution_count": 8,
   "id": "7d1b3afd-a1f6-4783-8510-2d82a7a22339",
   "metadata": {},
   "outputs": [
    {
     "data": {
      "text/latex": [
       "$\\displaystyle \\left\\{\\frac{k n_{0} e^{r t}}{k + n_{0} e^{r t} - n_{0}}\\right\\} \\setminus \\left\\{0\\right\\}$"
      ],
      "text/plain": [
       "Complement(FiniteSet(k*n0*exp(r*t)/(k + n0*exp(r*t) - n0)), FiniteSet(0))"
      ]
     },
     "execution_count": 8,
     "metadata": {},
     "output_type": "execute_result"
    }
   ],
   "source": [
    "# logistic growth\n",
    "\n",
    "r,k,t,n0 = var('r, k, t, n0') #define the parameters\n",
    "n = function('n')(t) #define a general function\n",
    "\n",
    "f = desolve(\n",
    "    diff(n(t),t) == r * n(t) * (1 - n(t) / k), #the differential equation we want to solve\n",
    "    n(t), #the function we want to solve for\n",
    "    ivar = t, #the independent variable we want the function to be of\n",
    "    ics = [0, n0] #the initial conditions (t0, n0)\n",
    ")\n",
    "\n",
    "#next a little trick to replace our function n with a variable z\n",
    "z = SR.var('z')\n",
    "fz = f.substitute({n:z})\n",
    "\n",
    "#and then we can solve for z=n explicitly with sympy\n",
    "fz.solve(z, algorithm='sympy')\n",
    "\n",
    "#note the set notation A \\ B means for all A that are not in B (so in this case we're ignoring the scenario where n(t)=0)"
   ]
  },
  {
   "cell_type": "code",
   "execution_count": 12,
   "id": "df9d7f48-13d5-4512-96a2-72934339c9b1",
   "metadata": {},
   "outputs": [
    {
     "data": {
      "text/latex": [
       "$\\displaystyle \\left\\{\\frac{p_{0} e^{s t}}{p_{0} e^{s t} - p_{0} + 1}\\right\\} \\setminus \\left\\{0\\right\\}$"
      ],
      "text/plain": [
       "Complement(FiniteSet(p0*exp(s*t)/(p0*exp(s*t) - p0 + 1)), FiniteSet(0))"
      ]
     },
     "execution_count": 12,
     "metadata": {},
     "output_type": "execute_result"
    }
   ],
   "source": [
    "# haploid selection\n",
    "\n",
    "s,t,p0 = var('s, t, p0') #define the parameters\n",
    "p = function('p')(t) #define a general function\n",
    "\n",
    "f = desolve(\n",
    "    diff(p(t),t) == s * p(t) * (1 - p(t)), #the differential equation we want to solve\n",
    "    p(t), #the function we want to solve for\n",
    "    ivar = t, #the independent variable we want the function to be of\n",
    "    ics = [0, p0] #the initial conditions (t0, p0)\n",
    ")\n",
    "\n",
    "#next a little trick to replace our function p with a variable z\n",
    "z = SR.var('z')\n",
    "fz = f.substitute({p:z})\n",
    "\n",
    "#and then we can solve for z=p explicitly with sympy\n",
    "fz.solve(z, algorithm='sympy')"
   ]
  },
  {
   "cell_type": "markdown",
   "id": "31a6731e-5c32-463b-91f1-504f6fdaf09c",
   "metadata": {},
   "source": [
    "And in the lectures we saw how to solve these using seperation of variables."
   ]
  },
  {
   "cell_type": "markdown",
   "id": "26f87397-964e-4d19-a8a6-1f7a9243e3c6",
   "metadata": {},
   "source": [
    "Now let's move on to some differential equations that require other methods to solve (see Box 6.2 in the text for how to do this by hand)."
   ]
  },
  {
   "cell_type": "markdown",
   "id": "59a19e1c-0512-4dfd-a31d-f1ddbe597cfe",
   "metadata": {},
   "source": [
    "**Q1** Sink populations are defined as populations that are maintained by migration from another source population. Here we consider a sink population with a negative intrinsic growth rate that receives immigrants at rate $m$ per year, which is decreasing over time due to habitat deterioration in migration corridors, $m=m-m_0-\\delta t$. A differential equation describing this situation is \n",
    "\n",
    "$\\frac{\\mathrm{d}n}{\\mathrm{d}t} = r n + (m_0 - \\delta t)$."
   ]
  },
  {
   "cell_type": "markdown",
   "id": "d4a7e62e-545d-43ff-9904-abed04609860",
   "metadata": {},
   "source": [
    "(a) [1 point] Use ```desolve``` to get the general solution, $n(t)$"
   ]
  },
  {
   "cell_type": "code",
   "execution_count": null,
   "id": "922e0ba0-d8bb-41ab-9090-0a033b638a2e",
   "metadata": {},
   "outputs": [],
   "source": []
  },
  {
   "cell_type": "markdown",
   "id": "bb94cf4e-1931-4f53-ae51-d34affb23deb",
   "metadata": {},
   "source": [
    "(b) [1 point] Plot this solution from $t=0$ to $t=80$ using $r=-0.01$, $m_0=0.5$, $\\delta=0.02$, and $n(0)=40$"
   ]
  },
  {
   "cell_type": "code",
   "execution_count": null,
   "id": "4b0fb8d6-5a57-42a0-8b0e-9d92a0a7f7f5",
   "metadata": {},
   "outputs": [],
   "source": []
  },
  {
   "cell_type": "markdown",
   "id": "10a20067-c069-448f-bc5f-818453b8f3f6",
   "metadata": {},
   "source": [
    "(c) [1 point] Plot the dynamics from just $t=0$ to $t=10$: why, biologicall, do we see these dynamics?"
   ]
  },
  {
   "cell_type": "code",
   "execution_count": null,
   "id": "93fabf2e-4fef-446b-bf76-1560c3d42f47",
   "metadata": {},
   "outputs": [],
   "source": []
  },
  {
   "cell_type": "markdown",
   "id": "41eabc66-e14b-4934-b2af-57a37d3239af",
   "metadata": {},
   "source": [
    "(d) [1 point] When do you expect the population to go extinct? [hint: sagemath's ```solve``` has some trouble with this, so try ```find_root``` -- type ```find_root?``` to see how this function works]"
   ]
  },
  {
   "cell_type": "code",
   "execution_count": null,
   "id": "050fb619-74cd-49f2-a290-be1ecf3a3242",
   "metadata": {},
   "outputs": [],
   "source": []
  },
  {
   "cell_type": "markdown",
   "id": "f0dc05e0-04fd-4267-9cef-9e421112251e",
   "metadata": {},
   "source": [
    "**Q2** (a) [1 point] Solve the haploid model of selection in continuous time, $\\frac{\\mathrm{d}p}{\\mathrm{d}t}=sp(1-p)$, under the assumption that the selection coefficient varies sinusoidally with time, $s = s_0 + \\sigma sin(\\theta t)$, as might be the case in a seasonal environment."
   ]
  },
  {
   "cell_type": "code",
   "execution_count": null,
   "id": "45c04bd8-a408-4d51-a32d-885c308f8e1e",
   "metadata": {},
   "outputs": [],
   "source": []
  },
  {
   "cell_type": "markdown",
   "id": "7c65cbb7-f4dd-4d7c-8147-b6d94133a314",
   "metadata": {},
   "source": [
    "(b) [1 point] Plot this for $s_0=0.01$, $\\sigma=0.1$, $\\theta=1$, $p_0=0.5$ from $t=0$ to $t=100$"
   ]
  },
  {
   "cell_type": "code",
   "execution_count": null,
   "id": "19de2dae-580e-4f51-9ad1-0b1968aab0b7",
   "metadata": {},
   "outputs": [],
   "source": []
  },
  {
   "cell_type": "markdown",
   "id": "875feb42-e46c-41b9-acfa-a53fe2d6a659",
   "metadata": {},
   "source": [
    "(c) [1 point] What happens as time goes to infinity when $s_0>0$? And $s_0<0$?"
   ]
  },
  {
   "cell_type": "code",
   "execution_count": null,
   "id": "08d9e608-831d-4cdf-96a2-b5840d0b562a",
   "metadata": {},
   "outputs": [],
   "source": []
  },
  {
   "cell_type": "markdown",
   "id": "27380fef-14ab-4fcf-92ab-233df7ad6227",
   "metadata": {},
   "source": [
    "**Q3** By decreasing the density of resources available, habitat degredation could act to reduce the reproductive potential of a species or to increase the amount of territory needed to sustain an individual."
   ]
  },
  {
   "cell_type": "markdown",
   "id": "b42f876f-ecce-4fe4-ab48-9b2152f55a6e",
   "metadata": {},
   "source": [
    "(a) [1 point] Solve the logistic growth model in continuous time, $\\frac{\\mathrm{d}n}{\\mathrm{d}t} = r n (1 - n/K)$, when $r(t) = r_0 (1 - \\delta t)$ but $K(t)=K_0$ is constant."
   ]
  },
  {
   "cell_type": "code",
   "execution_count": null,
   "id": "0b0ca820-185b-4ca3-a069-a4e1c3578940",
   "metadata": {},
   "outputs": [],
   "source": []
  },
  {
   "cell_type": "markdown",
   "id": "29cff723-6845-4d1a-8774-aadfe5478869",
   "metadata": {},
   "source": [
    "(b) [1 point] Now solve the logistic growth model when $r(t)=r_0$ is constant but $K(t)=K_0/(1 + \\delta t)$."
   ]
  },
  {
   "cell_type": "code",
   "execution_count": null,
   "id": "45653bdc-13bc-4051-b30b-a325bab0046f",
   "metadata": {},
   "outputs": [],
   "source": []
  },
  {
   "cell_type": "markdown",
   "id": "9b0d0fd4-fe67-4776-bdef-d697f10d836a",
   "metadata": {},
   "source": [
    "(c) [1 point] Compare these by plotting them for $n(0)=500$, $r_0=1$, $K_0=1000$, and $\\delta=0.1$. Which is expected to go extinct first?"
   ]
  },
  {
   "cell_type": "code",
   "execution_count": null,
   "id": "3821ad40-baac-4791-9ac6-74a6627f220a",
   "metadata": {},
   "outputs": [],
   "source": []
  }
 ],
 "metadata": {
  "kernelspec": {
   "display_name": "SageMath 9.2",
   "language": "sage",
   "name": "sagemath"
  },
  "language_info": {
   "codemirror_mode": {
    "name": "ipython",
    "version": 3
   },
   "file_extension": ".py",
   "mimetype": "text/x-python",
   "name": "python",
   "nbconvert_exporter": "python",
   "pygments_lexer": "ipython3",
   "version": "3.9.6"
  }
 },
 "nbformat": 4,
 "nbformat_minor": 5
}
