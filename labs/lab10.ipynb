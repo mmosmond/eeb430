{
 "cells": [
  {
   "cell_type": "markdown",
   "id": "cf59bc64-119e-4f79-a5dd-29796acc6e80",
   "metadata": {},
   "source": [
    "# Lab 10: Demography"
   ]
  },
  {
   "cell_type": "markdown",
   "id": "9f62a49a-20af-40a5-80d7-9b2c3bafb683",
   "metadata": {},
   "source": [
    "In lecture 10.1 we discussed how we can apply what we know about linear multivariate models to populations structured by stage or age (demography). We looked at a few simple examples, starting from the transition matrices. Here we'll see how to build the transition matrix from data, and how to analyze a larger transition matrix with the help of Sage."
   ]
  },
  {
   "cell_type": "markdown",
   "id": "6d55ae2c-28fc-42f5-ba0a-7ff403697961",
   "metadata": {},
   "source": [
    "## The demography of Canadians"
   ]
  },
  {
   "cell_type": "markdown",
   "id": "79af7bb9-80cb-4bf6-aac6-a4d1f7aaf8e5",
   "metadata": {},
   "source": [
    "Here we'll use data from past censuses to build a Leslie matrix and analyze how the demography of Canadians is expected to change. \n",
    "\n",
    "Because the census takes place every 5 years, instead of tracking individuals of each age, we'll track individuals in 5-year incremements: 0-4 years, 5-9 years, .... This ensures all individuals in a given age class will either die or move to the next age class, i.e., we get a Leslie matrix. We'll also group all individuals over 85 into the final age class, which means that we have a bit of a modified Leslie matrix with a non-zero survival probability in the bottom right corner. Because these individuals do not reproduce, this actually doesn't complicate things much.\n",
    "\n",
    "We'll track just the number of females in each age class for simplicity, so we'll have to divide the number of offspring by the sex ratio (fraction female) to get the expected number of female offspring."
   ]
  },
  {
   "cell_type": "markdown",
   "id": "7327d0ea-0b1a-4263-8f2e-4bd6e5c8f06a",
   "metadata": {},
   "source": [
    "First, let's see how many females were in each age class in 1991 (which we'll take to be a representative time) "
   ]
  },
  {
   "cell_type": "code",
   "execution_count": null,
   "id": "f1ea6e70-53ab-4904-8644-1310034f0d18",
   "metadata": {},
   "outputs": [],
   "source": [
    "age = ['%d-%d' %(i,i+4) for i in range(0,85,5)] + ['85+'] #list of age classes (just to make nicer tables)\n",
    "n = [945400, 909700, 901500, 895900, 976800, 1168800, 1221800, 1133000, 1031500, 807500, 656600, 610100, 599400, 571800, 461700, 362600, 237900, 197100] #number of females in each age class\n",
    "table(columns=[n], header_column=age)"
   ]
  },
  {
   "cell_type": "code",
   "execution_count": null,
   "id": "49d74294-58a7-490f-b2d7-086066ef4178",
   "metadata": {},
   "outputs": [],
   "source": [
    "bar_chart(n, axes_labels=['age class', 'number of females'])"
   ]
  },
  {
   "cell_type": "markdown",
   "id": "d9a6d877-5b48-4eb5-9c51-3f8e74756c04",
   "metadata": {},
   "source": [
    "Now, let's figure out the survival probabilities for each age class, the $p_i$'s of our Leslie matrix."
   ]
  },
  {
   "cell_type": "markdown",
   "id": "03f56482-f06f-4d57-a267-41c985aee960",
   "metadata": {},
   "source": [
    "To do this let's use the number of females of each age class that died that year."
   ]
  },
  {
   "cell_type": "code",
   "execution_count": null,
   "id": "50ea9319-8a1d-4316-9c48-449e262b4e56",
   "metadata": {},
   "outputs": [],
   "source": [
    "d = [1344, 155, 152, 345, 361, 556, 681, 939, 1337, 1659, 2142, 3275, 5032, 7763, 9757, 12949, 14261, 27415]\n",
    "table(columns=[d], header_column=age)"
   ]
  },
  {
   "cell_type": "code",
   "execution_count": null,
   "id": "c76211c6-137c-44bf-8bce-86b95ad4da91",
   "metadata": {},
   "outputs": [],
   "source": [
    "bar_chart(d, axes_labels=['age class', 'female death rate per year'])"
   ]
  },
  {
   "cell_type": "markdown",
   "id": "1ee5d2ad-7895-473a-9118-59889fd260f2",
   "metadata": {},
   "source": [
    "### Q1. [1 point] Use the total number of females in each age class, $n_i$, and the number of female deaths in each age class per year, $d_i$, to calaculate the per year probability of dying in each age class, $d_i/n_i$. The probability of surviving between one census and the next is then $p_i = (1 - d_i/n_i)^5$. Calculate this for each age class, making a list called ```p```. Make a bar chart if you'd like to better see the pattern."
   ]
  },
  {
   "cell_type": "code",
   "execution_count": null,
   "id": "45dc12ea-86a9-4b63-9218-2df3d1ceb42b",
   "metadata": {},
   "outputs": [],
   "source": []
  },
  {
   "cell_type": "markdown",
   "id": "6e3812ab-4ca6-47c8-ab68-9e0b0d30059d",
   "metadata": {},
   "source": [
    "The remaining part of the Leslie matrix is the fecundity, the $m_i$'s. To calculate these we use the number of births by age class in 1991."
   ]
  },
  {
   "cell_type": "code",
   "execution_count": null,
   "id": "260fdb94-9f80-4cee-96c9-d88dd346828d",
   "metadata": {},
   "outputs": [],
   "source": [
    "b = [0, 0, 265, 24180, 80723, 150024, 107560, 33107, 4124, 138, 0, 0, 0, 0, 0, 0, 0, 0]\n",
    "table(columns=[b], header_column=age)"
   ]
  },
  {
   "cell_type": "code",
   "execution_count": null,
   "id": "df4e8a0d-a277-4430-b0e0-a3f3c2d7b6a5",
   "metadata": {},
   "outputs": [],
   "source": [
    "bar_chart(b, axes_labels=['age class', 'births per year'])"
   ]
  },
  {
   "cell_type": "markdown",
   "id": "3f9bc075-0e1c-45e8-99d8-704f8b06b391",
   "metadata": {},
   "source": [
    "### Q2. [1 point] To get the number of births per year per female in each age class, we first divide the number of births by the number of females, $b_i/n_i$. To get the number of daughters we then multiply this by the sex ratio at birth, $0.4867$. Then, to get the birth rate per census in each class, $m_i$, we multiply each of these by 5. Calculate the $m_i$'s, making a list called ```m```. Make a bar plot if you want (it should have the same shape as the one above -- a good check!)."
   ]
  },
  {
   "cell_type": "code",
   "execution_count": null,
   "id": "434d18cb-37ef-4ea9-9a0b-337d565605ee",
   "metadata": {},
   "outputs": [],
   "source": []
  },
  {
   "cell_type": "markdown",
   "id": "516cd350-7051-40fb-9796-8357032646e9",
   "metadata": {},
   "source": [
    "OK, now we have all the elements of our Leslie matrix. Putting things together is a bit tricky, but here is one way to do it (try writing a script yourself if you'd like -- I'm sure there are better ways to do it!)"
   ]
  },
  {
   "cell_type": "code",
   "execution_count": null,
   "id": "e572ae3a-6d56-4e1a-afd6-60ad81bb1839",
   "metadata": {},
   "outputs": [],
   "source": [
    "s = len(p) #number of age classes\n",
    "L = matrix(RDF,s,s,0) #real (RR) matrix, size sxs, filled with 0s\n",
    "L[0] = m #add fecundities in the first row of L\n",
    "for i,pi in enumerate(p[:-1]): #for all but the final age class...\n",
    "    L[i+1,i] = pi #put the survival probability in row i+1, column i of L\n",
    "L[-1,-1] = p[-1] #add the probability of remaining in the final class as the bottom right entry in L\n",
    "L #take a look!"
   ]
  },
  {
   "cell_type": "markdown",
   "id": "ac36eec9-ba82-4fa5-b34f-779e2759049f",
   "metadata": {},
   "source": [
    "### Q3. [2 points] Now, what is the expected long-term population growth rate given this Leslie matrix? Is the population expected to grow or decline? Given the Canadian population has grown, what are we missing? "
   ]
  },
  {
   "cell_type": "code",
   "execution_count": null,
   "id": "6477004d-90c0-4a4f-8f1f-64cf94cf85f8",
   "metadata": {},
   "outputs": [],
   "source": []
  },
  {
   "cell_type": "markdown",
   "id": "8b12f9b8-eb9a-4f0a-95a0-ad1e34bec9f8",
   "metadata": {},
   "source": [
    "Note that you should get the (approximately) same answer using the Euler-Lotka equation, $1 = \\sum_{i=0}^{s}\\frac{l_i m_i}{\\lambda^i}$, which we can do without having to make the Leslie matrix"
   ]
  },
  {
   "cell_type": "code",
   "execution_count": null,
   "id": "32e2d1cc-a201-48cc-b25f-6cae7a98af2f",
   "metadata": {},
   "outputs": [],
   "source": [
    "l = [prod(p[:i]).n() for i in range(len(p))] #probability of surviving to age class i\n",
    "var('R')\n",
    "find_root(sum(li * mi / R^(i+1) for i,(li,mi) in enumerate(zip(l,m))) - 1, 0, 1) #find the real positive roots"
   ]
  },
  {
   "cell_type": "markdown",
   "id": "8a06a787-196d-486c-a034-43d2857df811",
   "metadata": {
    "tags": []
   },
   "source": [
    "### Q4. [1 point] What is the predicted frequency of each age(-class) distribution in the long-run? Make a bar chart to see this visually (set ymin=0 to see the pattern better)."
   ]
  },
  {
   "cell_type": "code",
   "execution_count": null,
   "id": "12fc7cdf-8b30-4faf-89c9-c1b9ddfbcd97",
   "metadata": {},
   "outputs": [],
   "source": []
  },
  {
   "cell_type": "markdown",
   "id": "543da568-aa48-4a2c-ae8d-527e278404bc",
   "metadata": {},
   "source": [
    "### Q5. [1 point] What are the reproductive values of each age class relative to the reproductive value of the first age class? Make a bar chart."
   ]
  },
  {
   "cell_type": "code",
   "execution_count": null,
   "id": "ab3cb660-6300-4ec6-89a8-ce5a463c1e49",
   "metadata": {},
   "outputs": [],
   "source": []
  },
  {
   "cell_type": "markdown",
   "id": "dccfdf00-27a2-48b8-b8a1-ae4a9bc44042",
   "metadata": {
    "tags": []
   },
   "source": [
    "### Q6. [2 points] Use equation 10.21, $\\frac{\\mathrm{d}\\lambda}{\\mathrm{d}p_i} = \\frac{u_i v_{i+1}}{\\vec{v}^T \\vec{u}}$, to calculate the sensitivities of the long-term growth rate to the survival probabilities of each age class. Based on this, increasing the survival probability of what age class would have the largest effect?"
   ]
  },
  {
   "cell_type": "code",
   "execution_count": null,
   "id": "09f185db-4ca8-487e-a874-26135ca8dbdd",
   "metadata": {},
   "outputs": [],
   "source": []
  },
  {
   "cell_type": "markdown",
   "id": "bca74e52-7048-400a-94b1-23214496bf2b",
   "metadata": {
    "tags": []
   },
   "source": [
    "### Q7. [2 points] Use equation 10.22, $\\frac{\\mathrm{d}\\lambda}{\\mathrm{d}m_i} = \\frac{u_i v_1}{\\vec{v}^T \\vec{u}}$, to calculate the sensitivities of the long-term growth rate to the fecundities of each age class. Based on this, increasing the fecundity of what age class would have the largest effect? (the answer is weird! bonus: why?)"
   ]
  },
  {
   "cell_type": "code",
   "execution_count": null,
   "id": "1f81e942-2599-4792-9ebd-40066ceb735e",
   "metadata": {},
   "outputs": [],
   "source": []
  },
  {
   "cell_type": "markdown",
   "id": "4e8e15d5-c840-4953-a758-919454b76b1e",
   "metadata": {},
   "source": [
    "### Q8. [1 point] Use the Leslie matrix to iterate the population forward to 2021. Make a bar chart of the number of females in each age class. What age class do we expect to be most freuent?"
   ]
  },
  {
   "cell_type": "code",
   "execution_count": null,
   "id": "0b16a08b-893e-47ba-bcaa-381f86091bc8",
   "metadata": {},
   "outputs": [],
   "source": []
  }
 ],
 "metadata": {
  "kernelspec": {
   "display_name": "SageMath 9.2",
   "language": "sage",
   "name": "sagemath"
  },
  "language_info": {
   "codemirror_mode": {
    "name": "ipython",
    "version": 3
   },
   "file_extension": ".py",
   "mimetype": "text/x-python",
   "name": "python",
   "nbconvert_exporter": "python",
   "pygments_lexer": "ipython3",
   "version": "3.9.6"
  }
 },
 "nbformat": 4,
 "nbformat_minor": 5
}
