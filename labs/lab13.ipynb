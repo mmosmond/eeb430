{
 "cells": [
  {
   "cell_type": "markdown",
   "id": "bc9e713f-7d43-45c8-b27b-f6fcde776a62",
   "metadata": {},
   "source": [
    "# Lab 13: stochastic population dynamics!"
   ]
  },
  {
   "cell_type": "markdown",
   "id": "35301258-95c8-4ca8-807f-8a0798a4736f",
   "metadata": {},
   "source": [
    "Here we'll get more familiar with a stochastic model of population growth in continuous time -- the so-called \"birth-death\" model (see section 13.3 of the text for more info). We'll use these simulations to estimate the probability of extinction."
   ]
  },
  {
   "cell_type": "markdown",
   "id": "c831acad-f791-468f-b1b8-e2f7d3cd9f16",
   "metadata": {},
   "source": [
    "Imagine individuals give birth at a constant per capita rate $b$ per time and die at a constant per capita rate $d$ per time. Over a short amount of time, $\\Delta t$, the probability a particular individual gives birth is then $b\\Delta t$ and the probability a particular individual dies is $d\\Delta t$. This implies the waiting time for a particular individual to give birth is an exponential random variable with probability density $f(t) =  b e^{-bt}$ and the waiting time for a particular individual to die is an exponential random variable with probability density $g(t) = d e^{-dt}$."
   ]
  },
  {
   "cell_type": "markdown",
   "id": "0607d4e8-2836-44fe-960e-a55b731bf12d",
   "metadata": {},
   "source": [
    "Now note that the probability that an individual gives birth *or* dies in a small amount of time, $\\Delta t$, is $P(\\mathrm{birth\\; or\\; death}) = P(\\mathrm{birth}) + P(\\mathrm{death}) = b\\Delta t + d \\Delta t = (b+d)\\Delta t$. That means that the waiting time until an event occurs (an event being a birth or a death) is an exponential random variable with probability density $f(t) = (b+d)e^{(b+d)t}$."
   ]
  },
  {
   "cell_type": "markdown",
   "id": "71a25399-c515-4996-8d5c-56c5699f2bdc",
   "metadata": {},
   "source": [
    "**Q1.** [2 points] Plot these three probability densities on the same axes with $b=1$ and $d=0.5$ from $t=0$ to $t=10$."
   ]
  },
  {
   "cell_type": "code",
   "execution_count": null,
   "id": "ddab4f15-711d-492e-8834-71d06547d2a5",
   "metadata": {},
   "outputs": [],
   "source": []
  },
  {
   "cell_type": "markdown",
   "id": "35de27d0-24be-48c3-b299-eacb720f1069",
   "metadata": {},
   "source": [
    "We can now sample the waiting time for either event to occur with ```rndm.exponential```. "
   ]
  },
  {
   "cell_type": "code",
   "execution_count": null,
   "id": "4704fd49-75a1-47c7-b3a3-6411407904e7",
   "metadata": {},
   "outputs": [],
   "source": [
    "import numpy.random as rndm\n",
    "rndm.exponential?"
   ]
  },
  {
   "cell_type": "markdown",
   "id": "8fb5cef4-de46-4b41-8dbb-fd55541ddfd0",
   "metadata": {},
   "source": [
    "**Q2.** [2 points] Sample 1000 waiting times from this distribution. Plot a histogram of these samples. Convert the height of the bins from counts to proportions (see ```histogram?```). Compare this to the probability density function plotted above (the height of the bins should match the density function)."
   ]
  },
  {
   "cell_type": "code",
   "execution_count": null,
   "id": "d59e7a56-3a7c-47a6-9ed8-161735221ca5",
   "metadata": {},
   "outputs": [],
   "source": []
  },
  {
   "cell_type": "markdown",
   "id": "277bb1a0-af46-4f7c-8e6e-a181910c1bca",
   "metadata": {},
   "source": [
    "OK, so imagine we sample the waiting time once and get $t$. Now we know an event occurs at time $t$. But is it a birth or a death? Here we can use conditional probabilities to compute $P(\\mathrm{birth} | \\mathrm{birth\\; or\\; death}) = P(\\mathrm{birth}) / P(\\mathrm{birth\\; or\\; death}) = b \\Delta t / ((b+d)\\Delta t)= b/(b+d)$. So once we use the exponential to pick our waiting time to an event we then do a Bernoulli trial and have a birth with probability $p=b/(b+d)$."
   ]
  },
  {
   "cell_type": "markdown",
   "id": "a9723623-5655-4331-a148-437311df5950",
   "metadata": {},
   "source": [
    "**Q3.** [1 point] Use  ```rndm.binomial``` to sample from a Bernoulli (equivalent to a binomial with 1 trial) with $p=b/(b+d)$ once. We'll take a 1 to mean birth, 0 to mean death."
   ]
  },
  {
   "cell_type": "code",
   "execution_count": null,
   "id": "465acf1f-ca8c-4620-b4ea-71aa47025900",
   "metadata": {},
   "outputs": [],
   "source": []
  },
  {
   "cell_type": "markdown",
   "id": "8e8cc197-5cec-4fec-9bca-57fe1a3f0122",
   "metadata": {},
   "source": [
    "Now consider a population with $n$ individuals. The probability any one of them will give birth or die in $\\Delta t$ time is $(b+d)n\\Delta t$. So we have an exponentially distributed waiting time with density $h_n(t) = (b+d)n e^{-(b+d)n t}$. Given an event happens the probability it is a birth is $bn\\Delta t / ((b+d)n\\Delta t) = b/(b+d)$. We are now ready to simulate this!"
   ]
  },
  {
   "cell_type": "markdown",
   "id": "2109ee8a-5e66-4300-a0d1-c0d10e05f27e",
   "metadata": {},
   "source": [
    "**Q4.** [1 point] First, set $t=0$ and $n=1$. Then choose a waiting time from an exponential distribution with rate $(b+d)n$ where $b=1$ and $d=0.5$. Update time by adding this waiting time to the current time."
   ]
  },
  {
   "cell_type": "code",
   "execution_count": null,
   "id": "0685bbc9-14ee-44ff-b5e6-fe633f5e2575",
   "metadata": {},
   "outputs": [],
   "source": []
  },
  {
   "cell_type": "markdown",
   "id": "b405ffbd-e4d3-4e39-b6ee-774d15e77f4b",
   "metadata": {},
   "source": [
    "**Q5.** [2 points] Now choose whether this event is a birth (1) or death (0) by sampling once from a binomial with 1 trial and probability of success $p=b/(b+d)$. We'll want to set $n=n+1$ if we get a 1, otherwise we'll set $n=n-1$. Write an if-else statement that does this."
   ]
  },
  {
   "cell_type": "code",
   "execution_count": null,
   "id": "12c1d934-6dda-4be9-a40b-c1f1430c739b",
   "metadata": {},
   "outputs": [],
   "source": []
  },
  {
   "cell_type": "markdown",
   "id": "55f27b3e-dc48-4570-8642-020b0dbc6bf8",
   "metadata": {},
   "source": [
    "**Q6.** [3 points] Now we wrap all this in a while loop, until time $t=10$, recording the time and population size each iteration. We'll also need to add in an if statement to ```break``` out of the loop if $n=0$."
   ]
  },
  {
   "cell_type": "code",
   "execution_count": null,
   "id": "8a6563e0-1f8f-4278-8978-34d728c56b23",
   "metadata": {},
   "outputs": [],
   "source": []
  },
  {
   "cell_type": "markdown",
   "id": "180e7d18-f13d-4690-9327-5dbef78fc9ac",
   "metadata": {},
   "source": [
    "**Q7.** [1 point] Use ```list_plot``` to plot population size over time"
   ]
  },
  {
   "cell_type": "code",
   "execution_count": null,
   "id": "d3b5ac18-8387-4586-a351-4bf5c57d1e80",
   "metadata": {},
   "outputs": [],
   "source": []
  },
  {
   "cell_type": "markdown",
   "id": "fcd1edf7-33c5-4b4a-acfd-58d4085340dc",
   "metadata": {},
   "source": [
    "**Q8.** [3 points] Now to get a sense of what happens on average, lets loop over 100 replicates. At the end of each replicate record if the population was alive (0) or extinct (1). Plot all the population dynamics on the same axes."
   ]
  },
  {
   "cell_type": "code",
   "execution_count": null,
   "id": "a4a0616a-a649-4d9d-9f59-5529f4a60ece",
   "metadata": {},
   "outputs": [],
   "source": []
  },
  {
   "cell_type": "markdown",
   "id": "407d2428-f879-48e7-b068-02674e7c70f7",
   "metadata": {},
   "source": [
    "**Q9.** [1 point] What proportion of replicates went extinct?"
   ]
  },
  {
   "cell_type": "code",
   "execution_count": null,
   "id": "1a51bc32-4d33-4e4d-bf72-4220c805b9a4",
   "metadata": {},
   "outputs": [],
   "source": []
  },
  {
   "cell_type": "markdown",
   "id": "ded76225-0ac9-4afd-9001-22dd6b613881",
   "metadata": {},
   "source": [
    "**Q10.** [1 point] It turns out the probability of extinction in this model can be calulcated as $(d/b)^{n(0)}$ when $b>d$ and 1 otherwise. Does this align with your result? If you are too far off you might have a bug!"
   ]
  },
  {
   "cell_type": "code",
   "execution_count": null,
   "id": "d30b2fa6-86f1-49c6-95e0-2416650bb120",
   "metadata": {},
   "outputs": [],
   "source": []
  },
  {
   "cell_type": "markdown",
   "id": "42b2e81f-9682-4017-8f99-382022d8e9e8",
   "metadata": {
    "tags": []
   },
   "source": [
    "## Bonus section (if you have time)"
   ]
  },
  {
   "cell_type": "markdown",
   "id": "e721fc78-7d7b-4213-9cf2-140cf0f8cb6e",
   "metadata": {},
   "source": [
    "If you have time, try this for a few different values of $b$, $d$, and $n(0)$ to get a feel for the birth-death model."
   ]
  },
  {
   "cell_type": "markdown",
   "id": "6a85fc51-addc-4a81-9add-8a27c05e967e",
   "metadata": {},
   "source": [
    "Or, try simulating the probability of extinction in the discrete time model, $n(t+1)=n(t)R$, where $R= 1 + b - d$ is a Poisson random variable and $n(0)=1$."
   ]
  },
  {
   "cell_type": "code",
   "execution_count": null,
   "id": "b85f9316-e2bd-4278-92e2-11e02801edf8",
   "metadata": {},
   "outputs": [],
   "source": []
  },
  {
   "cell_type": "markdown",
   "id": "e84559d2-593c-4b33-8802-339f6f71fdcb",
   "metadata": {},
   "source": [
    "Calulate the probability of extinction"
   ]
  },
  {
   "cell_type": "code",
   "execution_count": null,
   "id": "d229fe74-e791-49e3-9caa-f2af0b366741",
   "metadata": {},
   "outputs": [],
   "source": []
  },
  {
   "cell_type": "markdown",
   "id": "b5b6f9ca-82a6-45a4-9b0a-d61100a414de",
   "metadata": {},
   "source": [
    "It turns out the probability of extinction starting from $n(0)=1$ in this (\"branching process\") model, $p_e$, satisfies $p_e = e^{-(1-p_e)R}$. Use ```find_root``` to find $p_e$ and compare to your simulations"
   ]
  },
  {
   "cell_type": "code",
   "execution_count": null,
   "id": "75a7e524-8b8c-414b-9f05-82300969f56f",
   "metadata": {},
   "outputs": [],
   "source": []
  }
 ],
 "metadata": {
  "kernelspec": {
   "display_name": "SageMath 9.2",
   "language": "sage",
   "name": "sagemath"
  },
  "language_info": {
   "codemirror_mode": {
    "name": "ipython",
    "version": 3
   },
   "file_extension": ".py",
   "mimetype": "text/x-python",
   "name": "python",
   "nbconvert_exporter": "python",
   "pygments_lexer": "ipython3",
   "version": "3.9.6"
  }
 },
 "nbformat": 4,
 "nbformat_minor": 5
}
