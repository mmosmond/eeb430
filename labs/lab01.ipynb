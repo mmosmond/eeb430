{
 "cells": [
  {
   "cell_type": "markdown",
   "id": "d2cd533e-69a3-46cf-a1fb-813bba307766",
   "metadata": {},
   "source": [
    "# Lab 1: Introduction to SageMath"
   ]
  },
  {
   "cell_type": "markdown",
   "id": "a16992c3-8c40-4f41-8fc0-c13c98135dee",
   "metadata": {
    "tags": []
   },
   "source": [
    "SageMath is a free, open-source math software that supports research and teaching in algebra, geometry, number theory, cryptography, numerical computation, and related areas. SageMath is based on the programming language Python (and so as a bonus for learning SageMath, you'll also get familiar with one of the most ubiquitous programming languages out there). We will use SageMath to perform calculations and give insight into the many topics covered in this course. To learn more about SageMath, see [sagemath.org](https://www.sagemath.org/). \n",
    "\n",
    "This lab (adapted from [some calculus labs](https://ehs.sc.edu/study/colleges_schools/artsandsciences/mathematics/my_mathematics/undergrads/calculus_labs/math_141_labs.php)) will give you a little tour of SageMath. To take the tour, click in each executable \"code\" cell below (the ones with $\\text{[ ]:}$ beside them), type the appropriate code (if required), and execute the cell. You execute a cell by pressing ```Shift + Enter``` (Windows) or ```shift + return``` (Mac). Note that simply pressing ```Enter```/```return``` will go to the next line in the executable cell and will not execute the code."
   ]
  },
  {
   "cell_type": "markdown",
   "id": "43ad3d4a-aa97-4165-ae4c-f80f0c7e95a4",
   "metadata": {},
   "source": [
    "## 1. SageMath as a Calculator\n",
    "\n",
    "SageMath's most basic function is to act as a conventional calculator. For example, we can use SageMath to simplify the expression $$\\frac{3(2+\\frac{1}{2})^2}{\\frac{1}{5} - \\frac{2}{3}}$$ We can simply input the expression into an executable cell exactly as we would a calculator. "
   ]
  },
  {
   "cell_type": "code",
   "execution_count": null,
   "id": "2718b495-c533-4dcd-a289-ddc21b6033f1",
   "metadata": {},
   "outputs": [],
   "source": [
    "(3*(2+1/2)^2)/(1/5 - 2/3)"
   ]
  },
  {
   "cell_type": "markdown",
   "id": "6c8a0146-8cd4-454b-89c7-b7455963626f",
   "metadata": {},
   "source": [
    "One thing to be careful about in SageMath is you must use ```*``` to represent multiplication (eg, just leaving a space will result in an error)"
   ]
  },
  {
   "cell_type": "code",
   "execution_count": null,
   "id": "b2adaa81-7415-482a-8a44-9aff6d2458a0",
   "metadata": {},
   "outputs": [],
   "source": [
    "(3 (2+1/2)^2)/(1/5 - 2/3)"
   ]
  },
  {
   "cell_type": "markdown",
   "id": "8af40389-631f-44e7-a6cb-b0c8ed5057cd",
   "metadata": {},
   "source": [
    "Another thing to be careful about is that ```**``` signifies an exponent (as does ```^```)"
   ]
  },
  {
   "cell_type": "code",
   "execution_count": null,
   "id": "a9a6f42a-8aa9-4b6e-8cc3-bbc5aaf6ee04",
   "metadata": {},
   "outputs": [],
   "source": [
    "(3*(2+1/2)**2)/(1/5 - 2/3)"
   ]
  },
  {
   "cell_type": "markdown",
   "id": "051ad907-85ae-45d2-81c2-1b6822999844",
   "metadata": {},
   "source": [
    "By default, SageMath does not display the output in a \"nice\" way. You can make SageMath display the output in a more convenient manner by using the ```show(...)``` command."
   ]
  },
  {
   "cell_type": "code",
   "execution_count": null,
   "id": "f2f87940-53fe-4cfa-ae77-569d1eb7105c",
   "metadata": {},
   "outputs": [],
   "source": [
    "show((3*(2+1/2)^2)/(1/5 - 2/3))"
   ]
  },
  {
   "cell_type": "markdown",
   "id": "9b39c4db-c109-4dc5-bca9-baae79220f20",
   "metadata": {},
   "source": [
    "Since the expression only contains rational numbers, SageMath gives the output as a rational number. If we wanted a decimal approximation of the output, we could use the ```round(exp, n)``` command, where ```n``` is the number of decimal places we want displayed."
   ]
  },
  {
   "cell_type": "code",
   "execution_count": null,
   "id": "87f5d71a-e3d3-4c9b-9065-61478e098ec4",
   "metadata": {},
   "outputs": [],
   "source": [
    "round(-1125/28, 10)"
   ]
  },
  {
   "cell_type": "markdown",
   "id": "2e99106b-f0de-49cd-9250-04afac02af4a",
   "metadata": {},
   "source": [
    "A second way in which we could get a decimal approximation for a rational expression is to make at least one of the numbers a floating-point number. This means, make one of the numbers a decimal."
   ]
  },
  {
   "cell_type": "code",
   "execution_count": null,
   "id": "9834f17a-c31d-45bb-9a90-712400bc0292",
   "metadata": {},
   "outputs": [],
   "source": [
    "(3.0*(2+1/2)^2)/(1/5 - 2/3)"
   ]
  },
  {
   "cell_type": "markdown",
   "id": "0c35c43d-f85d-4870-b9db-c3e8aadf166a",
   "metadata": {
    "tags": []
   },
   "source": [
    "## 2. Predefined Functions and Constants\n",
    "SageMath has many of the common math functions and constants predefined. Most of these can be referenced by their normal notation. Note how SageMath has no issue calculating $\\sqrt{100}$, $\\sqrt[3]{54}$, $\\cos(\\pi)$ and $\\arcsin\\left(\\dfrac{1}{2}\\right)$. "
   ]
  },
  {
   "cell_type": "code",
   "execution_count": null,
   "id": "94fd514d-c6d8-4018-968f-d45fdafb9972",
   "metadata": {},
   "outputs": [],
   "source": [
    "sqrt(100)"
   ]
  },
  {
   "cell_type": "code",
   "execution_count": null,
   "id": "e3881fcb-0d31-4847-a23c-c7aaf043a4c1",
   "metadata": {},
   "outputs": [],
   "source": [
    "(54)^(1/3)"
   ]
  },
  {
   "cell_type": "code",
   "execution_count": null,
   "id": "c205e4a4-ec43-4fa1-b4f1-e2ce78c378c0",
   "metadata": {},
   "outputs": [],
   "source": [
    "cos(pi)"
   ]
  },
  {
   "cell_type": "code",
   "execution_count": null,
   "id": "541cac4a-d3db-4c89-b853-0e6c3ec50b43",
   "metadata": {},
   "outputs": [],
   "source": [
    "arcsin(1/2)"
   ]
  },
  {
   "cell_type": "markdown",
   "id": "6698474a-0771-4ddd-87f1-7d0d55f34def",
   "metadata": {},
   "source": [
    "SageMath gave exact answers for $\\sqrt[3]{54}$ and $\\arcsin\\left(\\frac{1}{2}\\right).$ In the two cells below, use the ```show(...)``` command to better display the output of these two calculations."
   ]
  },
  {
   "cell_type": "code",
   "execution_count": null,
   "id": "efa0f5cf-3bc7-420d-8d4c-228b56b5f195",
   "metadata": {},
   "outputs": [],
   "source": [
    "show((54)^(1/3))"
   ]
  },
  {
   "cell_type": "code",
   "execution_count": null,
   "id": "13834e61-8e1f-42f6-93cb-1d856b8ed733",
   "metadata": {},
   "outputs": [],
   "source": [
    "show(arcsin(1/2))"
   ]
  },
  {
   "cell_type": "markdown",
   "id": "ba6b35a5-c2c6-4e7f-9f7e-b01a054090bb",
   "metadata": {},
   "source": [
    "It is helpful to use auto-complete when you forget the exact name of the function you want to use or the function name is long. You can auto-complete by typing in something and then pressing the ```tab``` key. Try typing ```arc``` in the cell below and then hitting ```tab``` to see all functions that start with \"arc\", and then navigate down with the down key to select ```arcsin```"
   ]
  },
  {
   "cell_type": "code",
   "execution_count": null,
   "id": "343bab70-fa95-4756-9ef7-510853f97361",
   "metadata": {},
   "outputs": [],
   "source": []
  },
  {
   "cell_type": "markdown",
   "id": "bbad4786-7063-4fba-9b52-44b882c833e6",
   "metadata": {},
   "source": [
    "You can get information about any predefined function by simply ending the function name with a ```?```. Try this for ```arcsin```"
   ]
  },
  {
   "cell_type": "code",
   "execution_count": null,
   "id": "25edfbd3-940d-4e62-b5b5-1abb9615e926",
   "metadata": {
    "tags": []
   },
   "outputs": [],
   "source": []
  },
  {
   "cell_type": "markdown",
   "id": "b16b07fc-e901-4dd5-bf5e-11671253ab9e",
   "metadata": {
    "tags": []
   },
   "source": [
    "## 3. Assigning Expressions to Names \n",
    "\n",
    "SageMath allows us to assign an expression to a name so that it can easily be referenced throughout the entire notebook. For example, we can assign $\\dfrac{\\pi}{2}$ to the name ```a``` by doing the following."
   ]
  },
  {
   "cell_type": "code",
   "execution_count": null,
   "id": "de42e562-4fd1-4382-9f61-dec0a948012d",
   "metadata": {},
   "outputs": [],
   "source": [
    "a = pi/2"
   ]
  },
  {
   "cell_type": "markdown",
   "id": "9cb6c8f0-373c-4d42-8061-a44226607aef",
   "metadata": {},
   "source": [
    "Note that SageMath supresses the output whenever you are making an assignment. We can check that ```a``` really has been assigned to $\\dfrac{\\pi}{2}$ by entering into an input cell by itself."
   ]
  },
  {
   "cell_type": "code",
   "execution_count": null,
   "id": "7d0309b8-936d-470e-b8dc-68ec10e18a1a",
   "metadata": {},
   "outputs": [],
   "source": [
    "a"
   ]
  },
  {
   "cell_type": "markdown",
   "id": "5f965af9-6f01-4938-9fa6-4aaf8bfdddae",
   "metadata": {},
   "source": [
    "Now, whenever we use ```a``` throughout the entire notebook, it will be referring to $\\dfrac{\\pi}{2}$. If we wanted to reassign ```a``` to something else, all we have to do is set it equal to the new value."
   ]
  },
  {
   "cell_type": "code",
   "execution_count": null,
   "id": "e789ec74-b86c-404b-b507-ee04055c9926",
   "metadata": {},
   "outputs": [],
   "source": [
    "a = pi/3\n",
    "a"
   ]
  },
  {
   "cell_type": "markdown",
   "id": "5947e4aa-54e0-46a8-af25-35ada57ac891",
   "metadata": {},
   "source": [
    "Note that this time, SageMath did display the new value of ```a```. This is because we both assigned ```a``` to its new value and told SageMath to return ```a``` in the same input cell. SageMath allows multiple lines of code in the same cell and will execute all lines, however, it will only display the last line of code."
   ]
  },
  {
   "cell_type": "code",
   "execution_count": null,
   "id": "09a22469-76f4-4b69-8292-c05313fc0cb6",
   "metadata": {},
   "outputs": [],
   "source": [
    "a\n",
    "a + 1\n",
    "a + 2"
   ]
  },
  {
   "cell_type": "markdown",
   "id": "65ee4fdf-7125-4625-a342-30e25e544d00",
   "metadata": {},
   "source": [
    "If you want to display the output of lines other than the last, use ```print(...)```"
   ]
  },
  {
   "cell_type": "code",
   "execution_count": null,
   "id": "3c421ddd-52b2-4456-9ef2-6f1658d54a0f",
   "metadata": {},
   "outputs": [],
   "source": [
    "print(a)\n",
    "print(a + 1)\n",
    "print(a + 2)"
   ]
  },
  {
   "cell_type": "markdown",
   "id": "1bba6448-3ac4-41f9-a8ed-1f5305b41d8e",
   "metadata": {},
   "source": [
    "## 4. Creating Functions\n",
    "\n",
    "We can also create functions in SageMath. For example, in order to create the function $f(x) = x^2$, we do the following."
   ]
  },
  {
   "cell_type": "code",
   "execution_count": null,
   "id": "4cece460-2eee-41cf-9dd6-76f2e4a70353",
   "metadata": {},
   "outputs": [],
   "source": [
    "def f(x):\n",
    "    return x^2"
   ]
  },
  {
   "cell_type": "markdown",
   "id": "4ff8e76e-ddbd-4c39-9ef1-0d6a543064bb",
   "metadata": {},
   "source": [
    "Note this is a interpreted as a 'function'"
   ]
  },
  {
   "cell_type": "code",
   "execution_count": null,
   "id": "2b5a6ce2-1d84-463d-9b91-39dd645073fa",
   "metadata": {},
   "outputs": [],
   "source": [
    "type(f)"
   ]
  },
  {
   "cell_type": "markdown",
   "id": "f7a60a7d-b29e-4a84-95e3-6b02d8c2e4a6",
   "metadata": {},
   "source": [
    "which is slightly different from a 'symbolic expression' which is written more simply as"
   ]
  },
  {
   "cell_type": "code",
   "execution_count": null,
   "id": "9c2218a9-198f-4289-b571-da814218a994",
   "metadata": {},
   "outputs": [],
   "source": [
    "g(x) = x^2\n",
    "type(g)"
   ]
  },
  {
   "cell_type": "markdown",
   "id": "f4c4da02-cbe1-4715-ae0b-49ab2826d421",
   "metadata": {},
   "source": [
    "and can come in handy in some cases."
   ]
  },
  {
   "cell_type": "markdown",
   "id": "077d7ce0-cc64-4791-83be-5cb272f9e918",
   "metadata": {},
   "source": [
    "Simlilar to assignments, SageMath will not display any output when creating a function. It is good practice to call the function after creating it in order to verify that you created the intended function."
   ]
  },
  {
   "cell_type": "code",
   "execution_count": null,
   "id": "469442f2-0aa1-4dc8-8603-a849d3c838ab",
   "metadata": {},
   "outputs": [],
   "source": [
    "def f(x):\n",
    "    return x^2\n",
    "f(x)"
   ]
  },
  {
   "cell_type": "markdown",
   "id": "75e71f90-6837-4847-b098-2e3565a351d6",
   "metadata": {},
   "source": [
    "  Now that we have $f(x)$ defined, we can evaluate the function at different inputs."
   ]
  },
  {
   "cell_type": "code",
   "execution_count": null,
   "id": "f995d767-8403-4d51-add6-82271ab0ba98",
   "metadata": {},
   "outputs": [],
   "source": [
    "f(4)"
   ]
  },
  {
   "cell_type": "code",
   "execution_count": null,
   "id": "9cf88df3-b84c-467d-8b37-0d973487c557",
   "metadata": {},
   "outputs": [],
   "source": [
    "f(x) + 4"
   ]
  },
  {
   "cell_type": "code",
   "execution_count": null,
   "id": "6291d6ee-4767-4077-add6-45e4642a42ad",
   "metadata": {},
   "outputs": [],
   "source": [
    "f(f(x))"
   ]
  },
  {
   "cell_type": "markdown",
   "id": "720c1554-92ea-41dd-a5fd-355811f33d9d",
   "metadata": {},
   "source": [
    "What if we wanted to use the variable $t$ in place of $x$?"
   ]
  },
  {
   "cell_type": "code",
   "execution_count": null,
   "id": "8f9c90ce-2d91-4c0a-9961-29ce2816fd08",
   "metadata": {},
   "outputs": [],
   "source": [
    "f(t)"
   ]
  },
  {
   "cell_type": "markdown",
   "id": "76da91e7-17f8-4c4b-93c3-201bb2a68d75",
   "metadata": {},
   "source": [
    "SageMath gives an error saying that $t$ is not defined. The only variable that SageMath has predefined is $x$. If we want to use other variables, such as $t$, then we will need to make $t$ a variable by using the ```var``` command."
   ]
  },
  {
   "cell_type": "code",
   "execution_count": null,
   "id": "59aa9fca-f5d3-4671-99ad-a32776528d36",
   "metadata": {},
   "outputs": [],
   "source": [
    "var('t')"
   ]
  },
  {
   "cell_type": "markdown",
   "id": "f114240a-3f8c-4bd0-8af9-05becbf235d5",
   "metadata": {},
   "source": [
    "Now, SageMath will have no problem evaluating $f(t)$. "
   ]
  },
  {
   "cell_type": "code",
   "execution_count": null,
   "id": "e43e9ddd-7ffd-4e3c-80b2-3ed59fab90c1",
   "metadata": {},
   "outputs": [],
   "source": [
    "f(t)"
   ]
  },
  {
   "cell_type": "markdown",
   "id": "d42d5497-d921-41bd-be00-3730040b8309",
   "metadata": {},
   "source": [
    "It is also possible to define functions without specifying the exact form. For instance, we can define f to be a function of x with"
   ]
  },
  {
   "cell_type": "code",
   "execution_count": null,
   "id": "5647f624-ca89-4b32-95eb-4c1d1c69fdce",
   "metadata": {},
   "outputs": [],
   "source": [
    "f = function('f')(x)"
   ]
  },
  {
   "cell_type": "markdown",
   "id": "3f6ef8a4-8f18-439d-9f61-5a482f646741",
   "metadata": {},
   "source": [
    "And this allows us to then do things like take the derivative of f with respect to x"
   ]
  },
  {
   "cell_type": "code",
   "execution_count": null,
   "id": "2c04016a-70c6-4f82-9373-0a0be523a6a7",
   "metadata": {},
   "outputs": [],
   "source": [
    "diff(f(x),x)"
   ]
  },
  {
   "cell_type": "markdown",
   "id": "0e41a0be-0c59-44f2-bdd5-5835886036c6",
   "metadata": {},
   "source": [
    "Since we don't know the function we don't know the derivative, but SageMath now knows this might not be zero."
   ]
  },
  {
   "cell_type": "markdown",
   "id": "7c6c85ca-92ac-4969-b83e-8dcad56e7ec2",
   "metadata": {},
   "source": [
    "In contrast, if we don't specify that f is a function of x SageMath will assume it is not"
   ]
  },
  {
   "cell_type": "code",
   "execution_count": null,
   "id": "6b6e56e2-3eb6-46fe-8ef9-e4e99350276b",
   "metadata": {},
   "outputs": [],
   "source": [
    "f = var('f')\n",
    "print(diff(f,x))\n",
    "\n",
    "y = var('y')\n",
    "f = function('f')(y)\n",
    "diff(f(y),x)"
   ]
  },
  {
   "cell_type": "markdown",
   "id": "1d089818-7953-49e0-aa6f-6182c81b82b5",
   "metadata": {
    "tags": []
   },
   "source": [
    "## 5. Manipulating expressions and functions"
   ]
  },
  {
   "cell_type": "markdown",
   "id": "d3a61ac8-0e34-4876-ad35-068f75ceb50a",
   "metadata": {},
   "source": [
    "Sometimes we will want to simplify expressions to make them easier to understand and easier to work with downstream."
   ]
  },
  {
   "cell_type": "markdown",
   "id": "21f016d7-2b70-48cf-943f-83a6fb8fb44e",
   "metadata": {},
   "source": [
    "Here is a simple example where the function ```full_simplify``` comes in handy"
   ]
  },
  {
   "cell_type": "code",
   "execution_count": null,
   "id": "946d3079-4983-4804-a142-d912e33f7054",
   "metadata": {},
   "outputs": [],
   "source": [
    "a = (sqrt(2) - 1)*(sqrt(2)+1)\n",
    "show(a)\n",
    "show(a.full_simplify())"
   ]
  },
  {
   "cell_type": "markdown",
   "id": "f3329bda-cbb4-486b-93b9-b9453edf161f",
   "metadata": {},
   "source": [
    "Note that this \"function\", ```full_simplify```, is actually a \"method\" applied only to symbolic expressions (here ```a```) and not a stand-alone function. This is why we use it by placing ```.full_simplify()``` after the expression we want to simplify, rather than ```full_simplify(a)```."
   ]
  },
  {
   "cell_type": "markdown",
   "id": "14ea24e9-6c1a-4a6a-86ca-e8b81c818ca0",
   "metadata": {},
   "source": [
    "And here is an example where we can use ```factor``` to factor an expression into a simpler form (note we can use factor as a method, ```a.factor()```, or as a stand-alone function, ```factor(a)```)"
   ]
  },
  {
   "cell_type": "code",
   "execution_count": null,
   "id": "623015aa-36a6-482b-bbf9-a393be8dfb60",
   "metadata": {},
   "outputs": [],
   "source": [
    "a = x^2 + 2*x + 1\n",
    "show(a)\n",
    "show(factor(a))\n",
    "show(a.factor())"
   ]
  },
  {
   "cell_type": "markdown",
   "id": "e35736aa-cb88-4f42-92ec-bf4a996d68ad",
   "metadata": {},
   "source": [
    "We can undo the work of factor with ```expand```"
   ]
  },
  {
   "cell_type": "code",
   "execution_count": null,
   "id": "c26ad455-094e-4ad0-acb9-5ca58c90438b",
   "metadata": {},
   "outputs": [],
   "source": [
    "a = x^2 + 2*x + 1\n",
    "show(a)\n",
    "b = factor(a)\n",
    "show(b)\n",
    "c = expand(b)\n",
    "show(c)"
   ]
  },
  {
   "cell_type": "markdown",
   "id": "06e28d86-f00b-4ab2-9651-32acfb37adaa",
   "metadata": {},
   "source": [
    "We can also substitute values into an expression using ```subs```"
   ]
  },
  {
   "cell_type": "code",
   "execution_count": null,
   "id": "6d175973-fb68-48b7-bf6f-a69d6eb1db1b",
   "metadata": {},
   "outputs": [],
   "source": [
    "a = 2 * x\n",
    "show(a)\n",
    "show(a.subs(x=1))"
   ]
  },
  {
   "cell_type": "markdown",
   "id": "ca9e79f8-f3ab-4148-bb10-24a9052bd822",
   "metadata": {},
   "source": [
    "## 6. Calculus"
   ]
  },
  {
   "cell_type": "markdown",
   "id": "1897807d-9f9e-47b0-9903-de97fc344ebb",
   "metadata": {},
   "source": [
    "We can also use SageMath to do some calculus."
   ]
  },
  {
   "cell_type": "markdown",
   "id": "e23637c5-6a9d-4b1d-b6dc-96968fcd8ad6",
   "metadata": {},
   "source": [
    "For example, we can use the definition of a derivative to calculate the derivative of our function f"
   ]
  },
  {
   "cell_type": "code",
   "execution_count": null,
   "id": "021b36aa-aed5-45fd-9213-b4c1c466e9f6",
   "metadata": {},
   "outputs": [],
   "source": [
    "def f(x):\n",
    "    return x^2\n",
    "f(x)"
   ]
  },
  {
   "cell_type": "code",
   "execution_count": null,
   "id": "34fc513b-395b-4f2c-9abc-6f6b517d6f44",
   "metadata": {},
   "outputs": [],
   "source": [
    "var('h')\n",
    "limit((f(x+h) - f(x))/h,h=0)"
   ]
  },
  {
   "cell_type": "markdown",
   "id": "c44aaae7-869a-46be-b29d-789f9c5e8d04",
   "metadata": {},
   "source": [
    "Or we can just use the predefined function ```diff```"
   ]
  },
  {
   "cell_type": "code",
   "execution_count": null,
   "id": "638a6e4f-535e-4449-b586-3bb912256325",
   "metadata": {},
   "outputs": [],
   "source": [
    "diff(f(x))"
   ]
  },
  {
   "cell_type": "markdown",
   "id": "f3f35f15-675f-41bb-bdd0-abe6f51fa317",
   "metadata": {},
   "source": [
    "We can also take the 2nd derivative (or higher) by adding an option to ```diff```"
   ]
  },
  {
   "cell_type": "code",
   "execution_count": null,
   "id": "beb5f171-7da6-4601-a375-ac806764f440",
   "metadata": {},
   "outputs": [],
   "source": [
    "diff(f(x),2)"
   ]
  },
  {
   "cell_type": "markdown",
   "id": "746c1e01-a762-4a7f-85dc-8c17b63d90ab",
   "metadata": {},
   "source": [
    "And we can also integrate. To get the indefinite integral we simplify tell the function ```integrate``` what function we want the intergral of (our integrand) and what variable we want to integrate over"
   ]
  },
  {
   "cell_type": "code",
   "execution_count": null,
   "id": "dd5b72f8-4d22-4d76-bbcb-1842e5954ba3",
   "metadata": {},
   "outputs": [],
   "source": [
    "integrate(f(x),x)"
   ]
  },
  {
   "cell_type": "markdown",
   "id": "fa0040e1-9300-4cfb-a7cc-07ab0a72af75",
   "metadata": {},
   "source": [
    "and to get the definite integral we also pass the upper and lower bounds of the variable"
   ]
  },
  {
   "cell_type": "code",
   "execution_count": null,
   "id": "ce3c469e-e34a-4ad2-bf18-d6d7b9a9a975",
   "metadata": {},
   "outputs": [],
   "source": [
    "integrate(f(x),x,0,1)"
   ]
  },
  {
   "cell_type": "markdown",
   "id": "7723f020-1b73-40b8-9da7-18da7dee23af",
   "metadata": {},
   "source": [
    "and these bounds can themselves be symbolic"
   ]
  },
  {
   "cell_type": "code",
   "execution_count": null,
   "id": "bb28f1f6-f60b-4dea-9875-d4cadaafddfb",
   "metadata": {},
   "outputs": [],
   "source": [
    "var('a,b')\n",
    "integrate(f(x),x,a,b)"
   ]
  },
  {
   "cell_type": "markdown",
   "id": "9e8c45dd-4793-4a92-ac19-47c568c16458",
   "metadata": {},
   "source": [
    "## 7. Plotting\n",
    "\n",
    "The next part of SageMath which we will explore in this tour is its ability to plot graphs of functions. First, use the cell below to create the function $g(x) = \\dfrac{\\sin(x)}{x}.$"
   ]
  },
  {
   "cell_type": "code",
   "execution_count": null,
   "id": "08c7684d-4178-4509-8a77-fa7287fda61f",
   "metadata": {},
   "outputs": [],
   "source": []
  },
  {
   "cell_type": "markdown",
   "id": "59b059bc-1e1d-440b-9296-cd1d174362b8",
   "metadata": {},
   "source": [
    "Now, plot $g(x)$ by using the function ```plot(g(x))```."
   ]
  },
  {
   "cell_type": "code",
   "execution_count": null,
   "id": "f032643a-1912-432f-9a1f-2275aff86896",
   "metadata": {},
   "outputs": [],
   "source": []
  },
  {
   "cell_type": "markdown",
   "id": "8d45d6be-58c7-41da-8498-31f3d06b934b",
   "metadata": {},
   "source": [
    "The function ```plot()``` can take inputs other than just $g(x)$. The other inputs allow you to change specific characteristics about the graph of the function such as the $x$-range and $y$-range, the color, the linestyle, etc. To see a detailed description about the plot function follow its name with ```?``` and execute the cell."
   ]
  },
  {
   "cell_type": "code",
   "execution_count": null,
   "id": "ec1092e1-92a0-4bea-b2f9-720a86419571",
   "metadata": {
    "tags": []
   },
   "outputs": [],
   "source": []
  },
  {
   "cell_type": "markdown",
   "id": "d11bc85c-4a6d-47bb-b384-daa6ce506245",
   "metadata": {
    "tags": []
   },
   "source": [
    "We can run the following code to display the graph of $g(x)$ in a window that goes from $[-5,5]$ on the $x$-axis and $[-1,1]$ on the $y$-axis, changes the graph color to red, and changes the linestyle to dashed."
   ]
  },
  {
   "cell_type": "code",
   "execution_count": null,
   "id": "85b466a2-7fef-4826-9060-036872e4217a",
   "metadata": {},
   "outputs": [],
   "source": [
    "plot(g(x),xmin = -5, xmax = 5, ymin = -1, ymax = 1, color = 'red', linestyle = 'dashed')"
   ]
  },
  {
   "cell_type": "markdown",
   "id": "504efc24-13d9-4e8f-8130-ffe512e67b0a",
   "metadata": {},
   "source": [
    "SageMath also has the ability to graph multiple functions at once. When plotting multiple functions at the same time, surround them in brackets. Also, you can change properties for each function by also surrounding the properties in brackets. The following command plots both $g(x)$ and its derivative $g'(x)$ from $[-5,5]$ on the $x$-axis and $[-1,1]$ on the $y$-axis. It also plots $g(x)$ in green with dashes and $g'(x)$ in orange with dots. Additonally, we add a legend to distinguish between the two functions in the graph. "
   ]
  },
  {
   "cell_type": "code",
   "execution_count": null,
   "id": "d3323b65-89fd-406c-999a-4a1280d82573",
   "metadata": {},
   "outputs": [],
   "source": [
    "plot([g(x), diff(g(x))], xmin = -5, xmax = 5, ymin = -1, ymax = 1, \n",
    "     color = ['green', 'orange'], linestyle = ['dashed', 'dotted'],\n",
    "     legend_label = ['g(x)', \"g'(x)\"])"
   ]
  },
  {
   "cell_type": "markdown",
   "id": "a5d65f27-edcd-4985-a39a-d8ba343dc35a",
   "metadata": {
    "tags": []
   },
   "source": [
    "## 8. Adding, deleting, and manipulating cells\n",
    "\n",
    "You can add another cell to the notebook by pressing the ```a``` or ```b``` key to insert a cell above or below the current cell (press ```esc``` first, to swtich from \"edit\" to \"command\" mode). "
   ]
  },
  {
   "cell_type": "markdown",
   "id": "50dff8ce-d277-4004-a293-7ca8eee71087",
   "metadata": {},
   "source": [
    "Add an empty cell above and below this one."
   ]
  },
  {
   "cell_type": "markdown",
   "id": "85bf6206-c397-4319-bb17-146403b389af",
   "metadata": {},
   "source": [
    "These cells are by default \"Code\" cells, where you can evaluate expressions with SageMath. You can change the cell type to \"Markdown\" (like this one), which allows you to type in basic text. In addition to text, you can type in <b>HTML</b> and $\\LaTeX$ code and the cell will compile this code into text when you press ```Shift + Enter```. To make a cell a Markdown cell, press ```esc``` to enter command mode, then press the ```m``` key. To switch back to a Code cell, press ```y```."
   ]
  },
  {
   "cell_type": "code",
   "execution_count": null,
   "id": "b297423c-21bc-490c-8f77-dbcf961fe0a1",
   "metadata": {},
   "outputs": [],
   "source": [
    "convert this cell to Markdown and evaluate it! $\\pi$ <i>pie</i>"
   ]
  },
  {
   "cell_type": "markdown",
   "id": "944134bb-20e9-4e5b-9029-1a3804fcda6e",
   "metadata": {},
   "source": [
    "Insert a cell at the very beginning of the document and then make it a Markdown cell. In the cell, type your name and your student number."
   ]
  },
  {
   "cell_type": "markdown",
   "id": "b007ce55-de65-483b-b275-f0ea7b07b064",
   "metadata": {},
   "source": [
    "You can delete a cell by pressing ```esc``` and then two ```d```s in rapid succesion."
   ]
  },
  {
   "cell_type": "markdown",
   "id": "11ffa455-437e-4bf1-b5c1-db5ce13374b2",
   "metadata": {},
   "source": [
    "Delete this cell!"
   ]
  },
  {
   "cell_type": "markdown",
   "id": "602669b8-9496-44ef-b62c-a4ed339f37fe",
   "metadata": {},
   "source": [
    "You can also cut, copy, and paste cells from command mode with ```c```, ```x```, and ```v```."
   ]
  },
  {
   "cell_type": "markdown",
   "id": "7267b64b-0673-4162-bbde-2edf0f36b3ae",
   "metadata": {
    "tags": []
   },
   "source": [
    "## 9. Converting Notebook to PDF for Submission\n",
    "\n",
    "Once you are done with a lab, you will submit a PDF version of the notebook to Quercus for your TA to grade. The easiest way to convert the Notebook file to a PDF file is to choose $\\textbf{File $\\rightarrow$ Export Notebook as $\\rightarrow$ HTML}$ from the toolbar at the top left of Jupyter-lab (not your browser). Then open that file in your browser and use your browser's file menu to $\\textbf{File $\\rightarrow$ Print $\\rightarrow$ Save as PDF}$. Upload the PDF to Quercus.\n",
    "\n",
    "Note: These instructions may differ depending on Web Browser and Operating System."
   ]
  },
  {
   "cell_type": "markdown",
   "id": "0454bd44-8ab3-472d-9dcc-1daa5835a47c",
   "metadata": {},
   "source": [
    "PS. You cannot save your work on the JupyterHub server that you access via the Binder link. For this class you shouldn't have to save your work as the lab assignments are due at the end of the lab. However, if you would like to be able to save your work (eg, to create your own notebook for your final project) the simplest option is to make an account at [cocalc.com](https://cocalc.com/) (where you can upload, create, and save notebooks) and the more complicated option is to download a local copy of SageMath to your own computer (see https://doc.sagemath.org/html/en/installation/)."
   ]
  },
  {
   "cell_type": "markdown",
   "id": "cd1d9e9b-ce83-4abe-8681-2776f0d99f73",
   "metadata": {},
   "source": [
    "## 10. Questions"
   ]
  },
  {
   "cell_type": "markdown",
   "id": "eaea03b0-3819-4999-b93e-6a44360b54ea",
   "metadata": {},
   "source": [
    "### Q1. **Practice factoring**. \n",
    "\n",
    "Factor the following equations:\n",
    "- $1 + 3x + 2x^2$\n",
    "- $(1-x^2)/(1-x)$\n",
    "- $2 - 5x - 12x^2$\n",
    "\n",
    "Check these by hand."
   ]
  },
  {
   "cell_type": "markdown",
   "id": "20608e1c-0dd5-4f28-a7f7-b35df31aadb6",
   "metadata": {},
   "source": [
    "### Q2. **Practice derivatives**. \n",
    "Take derivatives of the following functions with respect to x:\n",
    "- $1 + 3x + 2x^2$\n",
    "- $(1-x^2)/(1-x)$\n",
    "- $x^3 y^2$\n",
    "- $x^3 y(x)^2$ (here y is a function of x)\n",
    "\n",
    "Check these by hand."
   ]
  },
  {
   "cell_type": "markdown",
   "id": "80f5e87c-d391-4128-8284-f1f58ec99783",
   "metadata": {
    "tags": []
   },
   "source": [
    "### Q3. **Practice indefinite integrals**. \n",
    "Take the integral of the following functions with respect to x:\n",
    "- $1 + 3x + 2x^2$\n",
    "- $(1-x^2)/(1-x)$\n",
    "- $x^3 y^2$\n",
    "- $x^3 y(x)^2$\n",
    "\n",
    "Check these by hand.\n",
    "\n",
    "Hint: for the final integral, define y as an unknown function of x (as we did above with f). Can SageMath integrate an unknown function?"
   ]
  },
  {
   "cell_type": "markdown",
   "id": "9a5d14da-a85e-44d1-9586-8cb2ffe10009",
   "metadata": {},
   "source": [
    "### Q4. **Practice definite integrals**. \n",
    "Take integral of the following functions with respect to x between 0 and 1:\n",
    "- $1 + 3x + 2x^2$\n",
    "- $(1-x^2)/(1-x)$\n",
    "- $x^3 y^2$\n",
    "- $\\pi x^3$\n",
    "\n",
    "Check these by hand."
   ]
  },
  {
   "cell_type": "markdown",
   "id": "77e78bc9-5b75-4248-9399-efce1e565343",
   "metadata": {
    "tags": []
   },
   "source": [
    "### **Bonus**. \n",
    "Find a function that SageMath cannot integrate."
   ]
  },
  {
   "cell_type": "markdown",
   "id": "ec80de2e-113d-4a62-bddc-9fd72ca8eafb",
   "metadata": {},
   "source": [
    "### Q5. **Practice plotting**. \n",
    "Plot the following functions from x=0 to x=1:\n",
    "- $1 + 3x + 2x^2$\n",
    "- $(1-x^2)/(1-x)$\n",
    "- $2 - 5x - 12x^2$"
   ]
  },
  {
   "cell_type": "markdown",
   "id": "c7e515a9-45ce-493b-9e49-a01a5e15f95f",
   "metadata": {
    "tags": []
   },
   "source": [
    "### Q6. **Exponetial growth**"
   ]
  },
  {
   "cell_type": "markdown",
   "id": "aef95e0e-6c49-4c9f-8490-75273ed9f8c3",
   "metadata": {},
   "source": [
    "At any future point in time, the number of individuals predicted under exponential growth is\n",
    "given by the general solutions for:\n",
    "\n",
    "The discrete-time model: $n_0 (1 + r)^t$\n",
    "\n",
    "The continuous-time model: $n_0 e^{rt}$\n",
    "\n",
    "Note that these are functions of three parameters: $t$, $r$, $n_0$."
   ]
  },
  {
   "cell_type": "markdown",
   "id": "a79378cb-02ee-4f1d-87bc-2df48809b79b",
   "metadata": {},
   "source": [
    "a)  **Defining functions**\n",
    "\n",
    "Write the functions in SageMath language, using \"nd\" as the variable name to describe the number of individuals in the discrete-time model and \"nc\" in the continuous-time model."
   ]
  },
  {
   "cell_type": "code",
   "execution_count": null,
   "id": "fbab0f25-62c7-4f1c-b4a8-6936515d7229",
   "metadata": {},
   "outputs": [],
   "source": []
  },
  {
   "cell_type": "code",
   "execution_count": null,
   "id": "2c72ea9c-f76f-428d-afd9-136b1d2f0b1e",
   "metadata": {},
   "outputs": [],
   "source": []
  },
  {
   "cell_type": "markdown",
   "id": "9fdfa48e-1433-4e7d-9d99-4e4ebd3b8ca0",
   "metadata": {},
   "source": [
    "b) **Evaluating functions**"
   ]
  },
  {
   "cell_type": "markdown",
   "id": "e6579b5f-4ec6-45cd-8bfd-e185bca9c51d",
   "metadata": {},
   "source": [
    "What are the population sizes under the two models with the follow parameters and starting\n",
    "condition? \n",
    "- $t = 20$\n",
    "- $r = 0.2$\n",
    "- $n_0 = 2$"
   ]
  },
  {
   "cell_type": "code",
   "execution_count": null,
   "id": "256dcdb9-117d-4f66-b5c8-175f6d5a9cdd",
   "metadata": {},
   "outputs": [],
   "source": []
  },
  {
   "cell_type": "code",
   "execution_count": null,
   "id": "290d55d5-cb75-469c-9da3-dc7c964140f8",
   "metadata": {},
   "outputs": [],
   "source": []
  },
  {
   "cell_type": "markdown",
   "id": "73d7acae-08d2-4af1-9d27-316c4cf07fa1",
   "metadata": {},
   "source": [
    "c) **Comparing functions**\n",
    "\n",
    "Which model has the higher population size and by how much?"
   ]
  },
  {
   "cell_type": "code",
   "execution_count": null,
   "id": "88578b24-c311-4e82-a9a1-35b9d11fa1a0",
   "metadata": {},
   "outputs": [],
   "source": []
  },
  {
   "cell_type": "markdown",
   "id": "6873cc04-135f-4395-88fb-3058f3437c31",
   "metadata": {},
   "source": [
    "d) **Plotting functions**"
   ]
  },
  {
   "cell_type": "markdown",
   "id": "f1b6d8e2-9b8d-4e5d-9619-07567c14e4ac",
   "metadata": {},
   "source": [
    "Plot the two functions from $t=0$ to $20$ for $r = 0.2$ & $n_0=2$.  "
   ]
  },
  {
   "cell_type": "code",
   "execution_count": null,
   "id": "86f8ef76-38d5-4130-b5aa-4452ec861262",
   "metadata": {},
   "outputs": [],
   "source": []
  },
  {
   "cell_type": "markdown",
   "id": "eb1d1280-e47d-4eb7-a51f-247d7dccc24c",
   "metadata": {},
   "source": [
    "Note: Above you may have plotted the discrete time equation as a continuous function of time (ie for all values of $t$). This is a little misleading since in the discrete time model we are modelling population size only at integer values of time. To plot this discreteness we can evaluate the function at the times we are interested in (organizing the output as pairs of x and y points, ```[t, n(t)]```) and then use ```scatter_plot``` to plot each pair of points (note that ```range(l,u)``` gives the integers from ```l``` to ```u-1```)"
   ]
  },
  {
   "cell_type": "code",
   "execution_count": null,
   "id": "fc928d2e-665a-41ed-97f9-58ddcd85deb7",
   "metadata": {},
   "outputs": [],
   "source": [
    "tns = [[t, nd(t).subs(r=0.2, n_0=2)] for t in range(0,20)]\n",
    "\n",
    "scatter_plot(tns)"
   ]
  },
  {
   "cell_type": "markdown",
   "id": "5d591a20-8047-47f1-a257-a8384b8f2130",
   "metadata": {},
   "source": [
    "(Note that the above code may not work, as it depends on how you have defined ```nd```. If it doesn't work, can you change the above code to get it to run?)"
   ]
  },
  {
   "cell_type": "code",
   "execution_count": null,
   "id": "1c58c4f5-df91-46dc-9c4f-b8d1b5830f3b",
   "metadata": {},
   "outputs": [],
   "source": []
  }
 ],
 "metadata": {
  "kernelspec": {
   "display_name": "SageMath 9.2",
   "language": "sage",
   "name": "sagemath"
  },
  "language_info": {
   "codemirror_mode": {
    "name": "ipython",
    "version": 3
   },
   "file_extension": ".py",
   "mimetype": "text/x-python",
   "name": "python",
   "nbconvert_exporter": "python",
   "pygments_lexer": "ipython3",
   "version": "3.9.6"
  }
 },
 "nbformat": 4,
 "nbformat_minor": 5
}
