{
 "cells": [
  {
   "cell_type": "markdown",
   "id": "d2cd533e-69a3-46cf-a1fb-813bba307766",
   "metadata": {},
   "source": [
    "# Lab 1: Introduction to SageMath"
   ]
  },
  {
   "cell_type": "markdown",
   "id": "a16992c3-8c40-4f41-8fc0-c13c98135dee",
   "metadata": {
    "tags": []
   },
   "source": [
    "SageMath is a free, open-source math software that supports research and teaching in algebra, geometry, number theory, cryptography, numerical computation, and related areas. SageMath is based on the programming language Python (and so as a bonus for learning SageMath, you'll get familiar with one of the most ubiquitous programming languages out there). We will use SageMath to perform calculations and give insight into the many topics covered in this course. To learn more about SageMath, see [sagemath.org](https://www.sagemath.org/). \n",
    "\n",
    "To take a tour (adapted from [some calculus labs](https://ehs.sc.edu/study/colleges_schools/artsandsciences/mathematics/my_mathematics/undergrads/calculus_labs/math_141_labs.php)), click in each executable cell below, the ones with $\\text{[ ]:}$ beside them, type the appropriate code (if required), and execute the cell. You execute a cell by pressing $\\textbf{Shift + Enter}$ (Windows) or $\\textbf{shift + return}$ (Mac). Note that simply pressing $\\textbf{Enter}$/$\\textbf{return}$ will go to the next line in the executable cell and will not execute the code.\n",
    "\n",
    "## 1. SageMath as a Calculator\n",
    "\n",
    "SageMath's most basic function is to act as a conventional calculator. For example, we can use SageMath to simplify the expression $$\\frac{3(2+\\frac{1}{2})^2}{\\frac{1}{5} - \\frac{2}{3}}$$ We can simply input the expression into an executable cell exactly as we would a calculator. "
   ]
  },
  {
   "cell_type": "code",
   "execution_count": null,
   "id": "2718b495-c533-4dcd-a289-ddc21b6033f1",
   "metadata": {},
   "outputs": [],
   "source": [
    "(3*(2+1/2)^2)/(1/5 - 2/3)"
   ]
  },
  {
   "cell_type": "markdown",
   "id": "6c8a0146-8cd4-454b-89c7-b7455963626f",
   "metadata": {},
   "source": [
    "One thing to be careful about in SageMath is you must use $\\textbf{*}$ to represent multiplication (eg, just leaving a space will result in an error)"
   ]
  },
  {
   "cell_type": "code",
   "execution_count": null,
   "id": "b2adaa81-7415-482a-8a44-9aff6d2458a0",
   "metadata": {},
   "outputs": [],
   "source": [
    "(3 (2+1/2)^2)/(1/5 - 2/3)"
   ]
  },
  {
   "cell_type": "markdown",
   "id": "8af40389-631f-44e7-a6cb-b0c8ed5057cd",
   "metadata": {},
   "source": [
    "Another thing to be careful about is that $\\textbf{**}$ signifies an exponent"
   ]
  },
  {
   "cell_type": "code",
   "execution_count": null,
   "id": "a9a6f42a-8aa9-4b6e-8cc3-bbc5aaf6ee04",
   "metadata": {},
   "outputs": [],
   "source": [
    "(3*(2+1/2)**2)/(1/5 - 2/3)"
   ]
  },
  {
   "cell_type": "markdown",
   "id": "051ad907-85ae-45d2-81c2-1b6822999844",
   "metadata": {},
   "source": [
    "By default, SageMath does not display the output in a \"nice\" way. You can make SageMath display the output in a more convenient manner by using the $\\textbf{show}$($\\dots$) command."
   ]
  },
  {
   "cell_type": "code",
   "execution_count": null,
   "id": "f2f87940-53fe-4cfa-ae77-569d1eb7105c",
   "metadata": {},
   "outputs": [],
   "source": [
    "show((3*(2+1/2)^2)/(1/5 - 2/3))"
   ]
  },
  {
   "cell_type": "markdown",
   "id": "9b39c4db-c109-4dc5-bca9-baae79220f20",
   "metadata": {},
   "source": [
    "Since the expression only contains rational numbers, SageMath gives the output as a rational number. If we wanted a decimal approximation of the output, we could use the $\\textbf{round(exp, n)}$ command, where $n$ is the number of decimal places we want displayed."
   ]
  },
  {
   "cell_type": "code",
   "execution_count": null,
   "id": "87f5d71a-e3d3-4c9b-9065-61478e098ec4",
   "metadata": {},
   "outputs": [],
   "source": [
    "round(-1125/28, 10)"
   ]
  },
  {
   "cell_type": "markdown",
   "id": "2e99106b-f0de-49cd-9250-04afac02af4a",
   "metadata": {},
   "source": [
    "A second way in which we could get a decimal approximation for a rational expression is to make at least one of the numbers a floating-point number. This means, make one of the numbers a decimal."
   ]
  },
  {
   "cell_type": "code",
   "execution_count": null,
   "id": "9834f17a-c31d-45bb-9a90-712400bc0292",
   "metadata": {},
   "outputs": [],
   "source": [
    "(3.0*(2+1/2)^2)/(1/5 - 2/3)"
   ]
  },
  {
   "cell_type": "markdown",
   "id": "0c35c43d-f85d-4870-b9db-c3e8aadf166a",
   "metadata": {
    "tags": []
   },
   "source": [
    "## 2. Predefined Functions and Constants\n",
    "SageMath has many of the common math functions and constants predefined. Most of these can be referenced by their normal notation. Note how SageMath has no issue calculating $\\sqrt{100}$, $\\sqrt[3]{54}$, $\\cos(\\pi)$ and $\\arcsin\\left(\\dfrac{1}{2}\\right)$. "
   ]
  },
  {
   "cell_type": "code",
   "execution_count": null,
   "id": "94fd514d-c6d8-4018-968f-d45fdafb9972",
   "metadata": {},
   "outputs": [],
   "source": [
    "sqrt(100)"
   ]
  },
  {
   "cell_type": "code",
   "execution_count": null,
   "id": "e3881fcb-0d31-4847-a23c-c7aaf043a4c1",
   "metadata": {},
   "outputs": [],
   "source": [
    "(54)^(1/3)"
   ]
  },
  {
   "cell_type": "code",
   "execution_count": null,
   "id": "c205e4a4-ec43-4fa1-b4f1-e2ce78c378c0",
   "metadata": {},
   "outputs": [],
   "source": [
    "cos(pi)"
   ]
  },
  {
   "cell_type": "code",
   "execution_count": null,
   "id": "541cac4a-d3db-4c89-b853-0e6c3ec50b43",
   "metadata": {},
   "outputs": [],
   "source": [
    "arcsin(1/2)"
   ]
  },
  {
   "cell_type": "markdown",
   "id": "6698474a-0771-4ddd-87f1-7d0d55f34def",
   "metadata": {},
   "source": [
    "SageMath gave exact answers for $\\sqrt[3]{54}$ and $\\arcsin\\left(\\frac{1}{2}\\right).$ In the two cells below, use the $\\textbf{show($\\dots$)}$ command to better display the output of these two calculations."
   ]
  },
  {
   "cell_type": "code",
   "execution_count": null,
   "id": "efa0f5cf-3bc7-420d-8d4c-228b56b5f195",
   "metadata": {},
   "outputs": [],
   "source": [
    "show((54)^(1/3))"
   ]
  },
  {
   "cell_type": "code",
   "execution_count": null,
   "id": "13834e61-8e1f-42f6-93cb-1d856b8ed733",
   "metadata": {},
   "outputs": [],
   "source": [
    "show(arcsin(1/2))"
   ]
  },
  {
   "cell_type": "markdown",
   "id": "ba6b35a5-c2c6-4e7f-9f7e-b01a054090bb",
   "metadata": {},
   "source": [
    "It is helpful to use auto-complete when you forget the exact name of the function you want to use or the function name is long. You can auto-complete by typing in something and then pressing ```tab```. Try typing \"arc\" in the cell below and then hitting ```tab``` to see all functions that start with \"arc\", and then navigate down with the down key to select \"arcsin\""
   ]
  },
  {
   "cell_type": "code",
   "execution_count": null,
   "id": "343bab70-fa95-4756-9ef7-510853f97361",
   "metadata": {},
   "outputs": [],
   "source": []
  },
  {
   "cell_type": "markdown",
   "id": "3cfd3b14-d762-4b6a-98f8-b1ea177f2dae",
   "metadata": {
    "jp-MarkdownHeadingCollapsed": true,
    "tags": []
   },
   "source": [
    "## 3. Adding cells\n",
    "\n",
    "You can add another cell to the notebook by pressing \"a\" or \"b\" to insert a cell above or below the current cell (press \"esc\" first, to swtich from \"edit\" to \"command\" mode). \n",
    "\n",
    "These cells are by default \"Code\" cells, where you can evaluate expressions with SageMath. You can change the cell type to \"Markdown\" (like this one), which allows you to type in basic text. In addition to text, you can type in <b>HTML</b> and $\\LaTeX$ code and the cell will compile this code into text when you press $\\textbf{Shift + Enter}$.\n",
    "\n",
    "Try inserting a cell at the very beginning of the document and then making it a Markdown cell. In the cell, type your name and your student number."
   ]
  },
  {
   "cell_type": "markdown",
   "id": "b16b07fc-e901-4dd5-bf5e-11671253ab9e",
   "metadata": {
    "tags": []
   },
   "source": [
    "## 4. Assigning Expressions to Names \n",
    "\n",
    "SageMath allows us to assign an expression to a name so that it can easily be referenced throughout the entire notebook. For example, we can assign $\\dfrac{\\pi}{2}$ to the name $a$ by doing the following."
   ]
  },
  {
   "cell_type": "code",
   "execution_count": null,
   "id": "de42e562-4fd1-4382-9f61-dec0a948012d",
   "metadata": {},
   "outputs": [],
   "source": [
    "a = pi/2"
   ]
  },
  {
   "cell_type": "markdown",
   "id": "9cb6c8f0-373c-4d42-8061-a44226607aef",
   "metadata": {},
   "source": [
    "Note that SageMath supresses the output whenever you are making an assignment. We can check that $a$ really has been assigned to $\\dfrac{\\pi}{2}$ by entering into an input cell by itself."
   ]
  },
  {
   "cell_type": "code",
   "execution_count": null,
   "id": "7d0309b8-936d-470e-b8dc-68ec10e18a1a",
   "metadata": {},
   "outputs": [],
   "source": [
    "a"
   ]
  },
  {
   "cell_type": "markdown",
   "id": "5f965af9-6f01-4938-9fa6-4aaf8bfdddae",
   "metadata": {},
   "source": [
    "Now, whenever we use $a$ throughout the entire notebook, it will be referring to $\\dfrac{\\pi}{2}$. If we wanted to reassign $a$ to something else, all we have to do is set it equal to the new value."
   ]
  },
  {
   "cell_type": "code",
   "execution_count": null,
   "id": "e789ec74-b86c-404b-b507-ee04055c9926",
   "metadata": {},
   "outputs": [],
   "source": [
    "a = pi/3\n",
    "a"
   ]
  },
  {
   "cell_type": "markdown",
   "id": "5947e4aa-54e0-46a8-af25-35ada57ac891",
   "metadata": {},
   "source": [
    "Note that this time, SageMath did display the new value of $a$. This is because we both assigned $a$ to its new value and told SageMath to return $a$ in the same input cell. SageMath allows multiple lines of code in the same cell and will execute all lines, however, it will only display the last line of code."
   ]
  },
  {
   "cell_type": "code",
   "execution_count": null,
   "id": "09a22469-76f4-4b69-8292-c05313fc0cb6",
   "metadata": {},
   "outputs": [],
   "source": [
    "a\n",
    "a + 1\n",
    "a + 2"
   ]
  },
  {
   "cell_type": "markdown",
   "id": "9b4bf28e-c0d8-4eb4-9628-d7a06e55006a",
   "metadata": {},
   "source": [
    "If you wish to display mutliple lines, you can use the $\\textbf{print}(\\dots)$ command."
   ]
  },
  {
   "cell_type": "code",
   "execution_count": null,
   "id": "2bcbf536-4409-45aa-aa9f-fc40e4ce607f",
   "metadata": {},
   "outputs": [],
   "source": [
    "print(a)\n",
    "print(a + 1)\n",
    "print(a + 2)"
   ]
  },
  {
   "cell_type": "markdown",
   "id": "e823f550-557d-4c00-844a-de4728e564ff",
   "metadata": {},
   "source": [
    "$\\textbf{Caution:}$ Be very careful about the names you choose for your assignment variables. SageMath will allow you to use a name that it has already defined and it does $\\textbf{not}$ warn you that you are overwriting a predefined command. For example, if you do the assignment sin = 5, then the next time you use sin, it will think you mean 5 instead of the trig function. In order to recover the trig function sin, you need to reset SageMath by using the command $\\textbf{reset}().$ This will clear all variables and functions you previously assigned, so you will need to re-execute those codes to reassign the variables and functions."
   ]
  },
  {
   "cell_type": "markdown",
   "id": "b75f88fa-237d-4de8-9a4c-ff3a5d88754a",
   "metadata": {},
   "source": [
    "## 5. Creating Functions\n",
    "\n",
    "We can also create functions in SageMath. For example, in order to create the function $f(x) = x^2$, we do the following."
   ]
  },
  {
   "cell_type": "code",
   "execution_count": null,
   "id": "7606c3b8-bd2f-4dbe-8433-96a0fb74bf4e",
   "metadata": {},
   "outputs": [],
   "source": [
    "def f(x):\n",
    "    return x^2"
   ]
  },
  {
   "cell_type": "markdown",
   "id": "b3cc2c96-8757-4f15-ae48-4e52bdd12ece",
   "metadata": {},
   "source": [
    "Note this is a interpreted as a 'function'"
   ]
  },
  {
   "cell_type": "code",
   "execution_count": null,
   "id": "cf62a205-ce0e-4bd7-bc88-12ff44d92c90",
   "metadata": {},
   "outputs": [],
   "source": [
    "type(f)"
   ]
  },
  {
   "cell_type": "markdown",
   "id": "5ee2df6e-ffab-44c1-a880-dbcfee49b384",
   "metadata": {},
   "source": [
    "which is slightly different from a 'symbolic expression' which is written more simply as"
   ]
  },
  {
   "cell_type": "code",
   "execution_count": null,
   "id": "4d814f87-e0ec-479d-a175-a1e660566d1d",
   "metadata": {},
   "outputs": [],
   "source": [
    "g(x) = x^2\n",
    "type(g)"
   ]
  },
  {
   "cell_type": "markdown",
   "id": "9311bd4f-24ad-41d6-bcc8-579b387cc3d7",
   "metadata": {},
   "source": [
    "Simlilar to assignments, SageMath will not display any output when creating a function. It is good practice to call the function after creating it in order to verify that you created the intended function."
   ]
  },
  {
   "cell_type": "code",
   "execution_count": null,
   "id": "3cbdfc71-7947-4631-8426-2c2c673c0b85",
   "metadata": {},
   "outputs": [],
   "source": [
    "def f(x):\n",
    "    return x^2\n",
    "f(x)"
   ]
  },
  {
   "cell_type": "markdown",
   "id": "168a08bf-8925-40aa-aa90-1a8f37c9c43f",
   "metadata": {},
   "source": [
    "  Now that we have $f(x)$ defined, we can evaluate the function at different inputs."
   ]
  },
  {
   "cell_type": "code",
   "execution_count": null,
   "id": "a0a68b7b-d41e-4a9f-a4ad-99e427f992c1",
   "metadata": {},
   "outputs": [],
   "source": [
    "f(4)"
   ]
  },
  {
   "cell_type": "code",
   "execution_count": null,
   "id": "5f787c3f-6b48-407d-8143-41de77361537",
   "metadata": {},
   "outputs": [],
   "source": [
    "f(x) + 4"
   ]
  },
  {
   "cell_type": "code",
   "execution_count": null,
   "id": "99065e56-e152-46fd-b633-cd5b83eb012f",
   "metadata": {},
   "outputs": [],
   "source": [
    "f(f(x))"
   ]
  },
  {
   "cell_type": "markdown",
   "id": "afd00c0c-66c5-4c40-8a91-0b29068d4bdb",
   "metadata": {},
   "source": [
    "What if we wanted to use the variable $t$ in place of $x$?"
   ]
  },
  {
   "cell_type": "code",
   "execution_count": null,
   "id": "27cded23-c0d7-4b15-8402-8f909507b6cc",
   "metadata": {},
   "outputs": [],
   "source": [
    "f(t)"
   ]
  },
  {
   "cell_type": "markdown",
   "id": "63e18b6c-6ff0-4abd-b686-75935d3dc26e",
   "metadata": {},
   "source": [
    "SageMath gives an error saying that $t$ is not defined. The only variable that SageMath has predefined is $x$. If we want to use other variables, such as $t$, then we will need to make $t$ a variable by using the $\\textbf{var}$ command."
   ]
  },
  {
   "cell_type": "code",
   "execution_count": null,
   "id": "171fa066-4626-46e1-a432-5ff0364dbeba",
   "metadata": {},
   "outputs": [],
   "source": [
    "var('t')"
   ]
  },
  {
   "cell_type": "markdown",
   "id": "4c0da827-2dfc-4e91-a3b7-03b6141f4430",
   "metadata": {},
   "source": [
    "Now, SageMath will have no problem evaluating $f(t)$. "
   ]
  },
  {
   "cell_type": "code",
   "execution_count": null,
   "id": "6991d858-b74a-4b7b-8b95-e772149c9ada",
   "metadata": {},
   "outputs": [],
   "source": [
    "f(t)"
   ]
  },
  {
   "cell_type": "markdown",
   "id": "52245335-63ee-4bc4-960b-d65755c1a9e5",
   "metadata": {
    "tags": []
   },
   "source": [
    "## 6. Manipulating expressions and functions"
   ]
  },
  {
   "cell_type": "markdown",
   "id": "d8c8cee6-1add-42fa-8d7f-31992b26a02e",
   "metadata": {},
   "source": [
    "Sometimes we will want to simplify expressions to make them easier to understand and easier to work with downstream."
   ]
  },
  {
   "cell_type": "markdown",
   "id": "22b29b08-d814-473a-abd6-8bfad91f8804",
   "metadata": {},
   "source": [
    "Here is a simple example where the function ```full_simplify``` comes in handy (note that this function is a method applied to symbolic expressions (here ```a```) and not a stand-alone function, and so we use it by placing ```.full_simplify()``` after the expression we want to simplify, rather than ```full_simplify(a)```)"
   ]
  },
  {
   "cell_type": "code",
   "execution_count": null,
   "id": "27935c4b-6e48-47ae-b078-96d8c9aa94ad",
   "metadata": {},
   "outputs": [],
   "source": [
    "a = (sqrt(2) - 1)*(sqrt(2)+1)\n",
    "show(a)\n",
    "show(a.full_simplify())"
   ]
  },
  {
   "cell_type": "markdown",
   "id": "e6bf40a9-37b6-42c3-85a2-e6b941f14083",
   "metadata": {},
   "source": [
    "And here is an example where we can use ```factor``` to factor an expression into a simpler form (note we can use factor as a method on ```a``` or as a stand-alone function)"
   ]
  },
  {
   "cell_type": "code",
   "execution_count": null,
   "id": "d343c652-5013-400a-b50d-ea2186148516",
   "metadata": {},
   "outputs": [],
   "source": [
    "a = x^2 + 2*x + 1\n",
    "show(a)\n",
    "show(factor(a))\n",
    "show(a.factor())"
   ]
  },
  {
   "cell_type": "markdown",
   "id": "be2a3dc7-ade2-4083-9836-d43f1910313d",
   "metadata": {},
   "source": [
    "We can undo the work of factor with ```expand```"
   ]
  },
  {
   "cell_type": "code",
   "execution_count": null,
   "id": "e09dfd47-db15-4615-8f4d-2e8e3a979864",
   "metadata": {},
   "outputs": [],
   "source": [
    "a = x^2 + 2*x + 1\n",
    "show(a)\n",
    "b = factor(a)\n",
    "show(b)\n",
    "c = expand(b)\n",
    "show(c)"
   ]
  },
  {
   "cell_type": "markdown",
   "id": "bb6be4cc-bc59-4475-a11f-6b422e2b108d",
   "metadata": {},
   "source": [
    "We can also substitute values into an expression using ```subs```"
   ]
  },
  {
   "cell_type": "code",
   "execution_count": null,
   "id": "2d1e027f-751d-445c-a755-3d47f765c6c0",
   "metadata": {},
   "outputs": [],
   "source": [
    "a = 2 * x\n",
    "show(a)\n",
    "show(a.subs(x==1))"
   ]
  },
  {
   "cell_type": "markdown",
   "id": "66a66cb6-b692-4e6a-bc18-f3d2b316e8b1",
   "metadata": {},
   "source": [
    "## 7. Calculus"
   ]
  },
  {
   "cell_type": "markdown",
   "id": "09fb43bf-dde2-4b33-8e61-2de5259e5e1a",
   "metadata": {},
   "source": [
    "We can also use SageMath to do some calculus."
   ]
  },
  {
   "cell_type": "markdown",
   "id": "dce66a6a-57e9-4951-b526-c0eb190ace61",
   "metadata": {},
   "source": [
    "For example, we can use the definition of a derivative to calculate the derivative of our function f"
   ]
  },
  {
   "cell_type": "code",
   "execution_count": null,
   "id": "7c25eeb2-abff-439f-b947-330e1a4ec2b7",
   "metadata": {},
   "outputs": [],
   "source": [
    "var('h')\n",
    "limit((f(x+h) - f(x))/h,h=0)"
   ]
  },
  {
   "cell_type": "markdown",
   "id": "e9bc6671-c2ea-4e90-86fd-1acdf475616f",
   "metadata": {},
   "source": [
    "Or we can just use the predefined function ```diff```"
   ]
  },
  {
   "cell_type": "code",
   "execution_count": null,
   "id": "e6fe9a33-355f-4fa3-bbed-0f066de656d1",
   "metadata": {},
   "outputs": [],
   "source": [
    "diff(f(x))"
   ]
  },
  {
   "cell_type": "markdown",
   "id": "ee183ba6-ecaf-4718-b21a-1b844d8ed6ae",
   "metadata": {},
   "source": [
    "We can also take the 2nd derivative (or higher) by adding an option to ```diff```"
   ]
  },
  {
   "cell_type": "code",
   "execution_count": null,
   "id": "2f71918d-d6a6-497e-b372-b85e5d856f13",
   "metadata": {},
   "outputs": [],
   "source": [
    "diff(f(x),2)"
   ]
  },
  {
   "cell_type": "markdown",
   "id": "75f45958-8ccc-41f6-8dc3-2ddb45f7f271",
   "metadata": {},
   "source": [
    "And we can also integrate. To get the indefinite integral we simplify tell the function ```integrate``` what function we want the intergral of (our integrand) and what variable we want to integrate over"
   ]
  },
  {
   "cell_type": "code",
   "execution_count": null,
   "id": "63accf8d-5dc3-48b2-9cc6-4e776720b289",
   "metadata": {},
   "outputs": [],
   "source": [
    "integrate(f(x),x)"
   ]
  },
  {
   "cell_type": "markdown",
   "id": "37d01404-7767-408e-a708-9b85f5d818d7",
   "metadata": {},
   "source": [
    "and to get the definite integral we also pass the upper and lower bounds of the variable"
   ]
  },
  {
   "cell_type": "code",
   "execution_count": null,
   "id": "ee039df0-9930-4075-92e9-fdfdc691b8bf",
   "metadata": {},
   "outputs": [],
   "source": [
    "integrate(f(x),x,0,1)"
   ]
  },
  {
   "cell_type": "markdown",
   "id": "64d7815e-f725-4673-b3b9-02964cc3e08b",
   "metadata": {},
   "source": [
    "and these bounds can themselves be symbolic"
   ]
  },
  {
   "cell_type": "code",
   "execution_count": null,
   "id": "de189c5b-1ac8-430e-8699-a09116eb8a86",
   "metadata": {},
   "outputs": [],
   "source": [
    "var('a,b')\n",
    "integrate(f(x),x,a,b)"
   ]
  },
  {
   "cell_type": "markdown",
   "id": "9e8c45dd-4793-4a92-ac19-47c568c16458",
   "metadata": {},
   "source": [
    "## 8. Plotting\n",
    "\n",
    "The last part of SageMath which we will explore in this tour is its ability to plot graphs of functions. First, use the cell below to create the function $g(x) = \\dfrac{\\sin(x)}{x}.$"
   ]
  },
  {
   "cell_type": "code",
   "execution_count": null,
   "id": "08c7684d-4178-4509-8a77-fa7287fda61f",
   "metadata": {},
   "outputs": [],
   "source": []
  },
  {
   "cell_type": "markdown",
   "id": "59b059bc-1e1d-440b-9296-cd1d174362b8",
   "metadata": {},
   "source": [
    "Now, plot $g(x)$ by using the function $\\textbf{plot(g(x))}$."
   ]
  },
  {
   "cell_type": "code",
   "execution_count": null,
   "id": "f032643a-1912-432f-9a1f-2275aff86896",
   "metadata": {},
   "outputs": [],
   "source": []
  },
  {
   "cell_type": "markdown",
   "id": "8d45d6be-58c7-41da-8498-31f3d06b934b",
   "metadata": {},
   "source": [
    "The function $\\textbf{plot()}$ can take inputs other than just $g(x)$. The other inputs allow you to change specific characteristics about the graph of the function such as the $x$-range and $y$-range, the color, the linestyle, etc. To see a detailed description about the plot function, or about any function, simply follow its name with $\\textbf{?}$ and execute the cell."
   ]
  },
  {
   "cell_type": "code",
   "execution_count": null,
   "id": "ec1092e1-92a0-4bea-b2f9-720a86419571",
   "metadata": {
    "tags": []
   },
   "outputs": [],
   "source": []
  },
  {
   "cell_type": "markdown",
   "id": "d11bc85c-4a6d-47bb-b384-daa6ce506245",
   "metadata": {
    "tags": []
   },
   "source": [
    "We can run the following code to display the graph of $g(x)$ in a window that goes from $[-5,5]$ on the $x$-axis and $[-1,1]$ on the $y$-axis, changes the graph color to red, and changes the linestyle to dashed."
   ]
  },
  {
   "cell_type": "code",
   "execution_count": null,
   "id": "85b466a2-7fef-4826-9060-036872e4217a",
   "metadata": {},
   "outputs": [],
   "source": [
    "plot(g(x),xmin = -5, xmax = 5, ymin = -1, ymax = 1, color = 'red', linestyle = 'dashed')"
   ]
  },
  {
   "cell_type": "markdown",
   "id": "504efc24-13d9-4e8f-8130-ffe512e67b0a",
   "metadata": {},
   "source": [
    "SageMath also has the ability to graph multiple functions at once. When plotting multiple functions at the same time, surround them in brackets. Also, you can change properties for each function by also surrounding the properties in brackets. The following command plots both $g(x)$ and its derivative $g'(x)$ from $[-5,5]$ on the $x$-axis and $[-1,1]$ on the $y$-axis. It also plots $g(x)$ in green with dashes and $g'(x)$ in orange with dots. Additonally, we add a legend to distinguish between the two functions in the graph. "
   ]
  },
  {
   "cell_type": "code",
   "execution_count": null,
   "id": "d3323b65-89fd-406c-999a-4a1280d82573",
   "metadata": {},
   "outputs": [],
   "source": [
    "plot([g(x), diff(g(x))], xmin = -5, xmax = 5, ymin = -1, ymax = 1, \n",
    "     color = ['green', 'orange'], linestyle = ['dashed', 'dotted'],\n",
    "     legend_label = ['g(x)', \"g'(x)\"])"
   ]
  },
  {
   "cell_type": "markdown",
   "id": "7267b64b-0673-4162-bbde-2edf0f36b3ae",
   "metadata": {
    "tags": []
   },
   "source": [
    "## 9. Converting Notebook to PDF for Submission\n",
    "\n",
    "Once you are done with a lab, you will submit a PDF version of the notebook to Quercus for your TA to grade. The easiest way to convert the Notebook file to a PDF file is to choose $\\textbf{File $\\rightarrow$ Print}$ from the toolbar at the top of the page. Then, choose to $\\textbf{Save as PDF}$. You can upload the PDF to Quercus.\n",
    "\n",
    "Note: These instructions may differ depending on Web Browser and Operating System."
   ]
  },
  {
   "cell_type": "markdown",
   "id": "0454bd44-8ab3-472d-9dcc-1daa5835a47c",
   "metadata": {},
   "source": [
    "PS. You cannot save your work on the JupyterHub server that you access via the Binder link. For this class you shouldn't have to save your work as the lab assignments are due at the end of the lab. However, if you would like to be able to save your work (eg, to create your own notebook for your final project) the simplest option is to make an account at [cocalc.com](https://cocalc.com/) (where you can upload, create, and save notebooks) and the more complicated option is to download SageMath to your own computer (see https://doc.sagemath.org/html/en/installation/)."
   ]
  },
  {
   "cell_type": "markdown",
   "id": "cd1d9e9b-ce83-4abe-8681-2776f0d99f73",
   "metadata": {},
   "source": [
    "## 10. Questions"
   ]
  },
  {
   "cell_type": "markdown",
   "id": "eaea03b0-3819-4999-b93e-6a44360b54ea",
   "metadata": {},
   "source": [
    "Q1. **Practice factoring**. Factor the following equations:\n",
    "- $1 + 3x + 2x^2$\n",
    "- $(1-x^2)/(1-x)$\n",
    "- $2 - 5x - 12x^2$\n",
    "\n",
    "Check these by hand."
   ]
  },
  {
   "cell_type": "markdown",
   "id": "20608e1c-0dd5-4f28-a7f7-b35df31aadb6",
   "metadata": {},
   "source": [
    "Q2. **Practice derivatives**. Take derivatives of the following functions with respect to x:\n",
    "- $1 + 3x + 2x^2$\n",
    "- $(1-x^2)/(1-x)$\n",
    "- $x^3 y^2$\n",
    "- $x^3 y(x)^2$\n",
    "\n",
    "Check these by hand."
   ]
  },
  {
   "cell_type": "markdown",
   "id": "80f5e87c-d391-4128-8284-f1f58ec99783",
   "metadata": {},
   "source": [
    "Q3. **Practice indefinite integrals**. Take the integral of the following functions with respect to x:\n",
    "- $1 + 3x + 2x^2$\n",
    "- $(1-x^2)/(1-x)$\n",
    "- $x^3 y^2$\n",
    "- $x^3 y(x)^2$\n",
    "\n",
    "Check these by hand."
   ]
  },
  {
   "cell_type": "markdown",
   "id": "9a5d14da-a85e-44d1-9586-8cb2ffe10009",
   "metadata": {},
   "source": [
    "Q4. **Practice definite integrals**. Take integral of the following functions with respect to x between 0 and 1:\n",
    "- $1 + 3x + 2x^2$\n",
    "- $(1-x^2)/(1-x)$\n",
    "- $x^3 y^2$\n",
    "- $\\pi x^3$\n",
    "\n",
    "Check these by hand."
   ]
  },
  {
   "cell_type": "markdown",
   "id": "77e78bc9-5b75-4248-9399-efce1e565343",
   "metadata": {},
   "source": [
    "Q5. **Stump SageMath**. Find a function that SageMath cannot integrate."
   ]
  },
  {
   "cell_type": "markdown",
   "id": "ec80de2e-113d-4a62-bddc-9fd72ca8eafb",
   "metadata": {},
   "source": [
    "Q6. **Practice plotting**. Plot the following functions from x=0 to x=1:\n",
    "- $1 + 3x + 2x^2$\n",
    "- $(1-x^2)/(1-x)$\n",
    "- $2 - 5x - 12x^2$"
   ]
  }
 ],
 "metadata": {
  "kernelspec": {
   "display_name": "SageMath 9.2",
   "language": "sage",
   "name": "sagemath"
  },
  "language_info": {
   "codemirror_mode": {
    "name": "ipython",
    "version": 3
   },
   "file_extension": ".py",
   "mimetype": "text/x-python",
   "name": "python",
   "nbconvert_exporter": "python",
   "pygments_lexer": "ipython3",
   "version": "3.9.6"
  }
 },
 "nbformat": 4,
 "nbformat_minor": 5
}
