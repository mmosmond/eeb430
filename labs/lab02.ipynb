{
 "cells": [
  {
   "cell_type": "markdown",
   "id": "1074cf3e",
   "metadata": {},
   "source": [
    "# 3 Functions in SageMath"
   ]
  },
  {
   "cell_type": "markdown",
   "id": "c52c415f",
   "metadata": {},
   "source": [
    "In SageMath language, the function $f(x) = 3x^2 + 5x + 2$ is written as:"
   ]
  },
  {
   "cell_type": "markdown",
   "id": "4365c34f",
   "metadata": {},
   "source": [
    "## 3.1 A simple function"
   ]
  },
  {
   "cell_type": "code",
   "execution_count": 2,
   "id": "04e52e7c",
   "metadata": {},
   "outputs": [],
   "source": [
    "g(x) = 3 * x^2 + 5 * x + 2"
   ]
  },
  {
   "cell_type": "markdown",
   "id": "a9dfe6b5",
   "metadata": {},
   "source": [
    "We can evaluate this function at any $x$"
   ]
  },
  {
   "cell_type": "code",
   "execution_count": 3,
   "id": "b6c24c2c",
   "metadata": {},
   "outputs": [
    {
     "data": {
      "text/plain": [
       "10"
      ]
     },
     "execution_count": 3,
     "metadata": {},
     "output_type": "execute_result"
    }
   ],
   "source": [
    "g(1)"
   ]
  },
  {
   "cell_type": "markdown",
   "id": "7501d071",
   "metadata": {},
   "source": [
    "We can plot this function from $x=0$ to $100$ using the ```plot``` function"
   ]
  },
  {
   "cell_type": "code",
   "execution_count": null,
   "id": "d7dc5a7c",
   "metadata": {},
   "outputs": [
    {
     "data": {
      "image/png": "[encoded data removed]",
      "text/plain": [
       "Graphics object consisting of 1 graphics primitive"
      ]
     },
     "execution_count": 4,
     "metadata": {},
     "output_type": "execute_result"
    }
   ],
   "source": [
    "plot(g, x, 0, 100, axes_labels = ['time', 'population size'])"
   ]
  },
  {
   "cell_type": "markdown",
   "id": "26a128b7",
   "metadata": {},
   "source": [
    "## 3.2 A slightly more complicated function"
   ]
  },
  {
   "cell_type": "markdown",
   "id": "e62009ad",
   "metadata": {},
   "source": [
    "This time we first define two variables, a and b, and then use them in the function"
   ]
  },
  {
   "cell_type": "code",
   "execution_count": 27,
   "id": "016eec2f",
   "metadata": {},
   "outputs": [],
   "source": [
    "a, b = var('a, b')\n",
    "g2(x) = a * x^2 + b * x + 2"
   ]
  },
  {
   "cell_type": "code",
   "execution_count": 21,
   "id": "1263050b",
   "metadata": {},
   "outputs": [
    {
     "data": {
      "text/plain": [
       "144*a + 12*b + 2"
      ]
     },
     "execution_count": 21,
     "metadata": {},
     "output_type": "execute_result"
    }
   ],
   "source": [
    "g2(12)"
   ]
  },
  {
   "cell_type": "markdown",
   "id": "fda1b36d",
   "metadata": {},
   "source": [
    "We can give these variables values with the ```substitute``` function"
   ]
  },
  {
   "cell_type": "code",
   "execution_count": 24,
   "id": "24963d50",
   "metadata": {},
   "outputs": [
    {
     "data": {
      "text/plain": [
       "410"
      ]
     },
     "execution_count": 24,
     "metadata": {},
     "output_type": "execute_result"
    }
   ],
   "source": [
    "g2(12).substitute(a==2,b==10)"
   ]
  },
  {
   "cell_type": "markdown",
   "id": "490d1505",
   "metadata": {},
   "source": [
    "We can also write the general function out as a formatted equation using ```show```"
   ]
  },
  {
   "cell_type": "code",
   "execution_count": 30,
   "id": "f69aaab1",
   "metadata": {},
   "outputs": [
    {
     "data": {
      "text/html": [
       "<html><script type=\"math/tex; mode=display\">\\newcommand{\\Bold}[1]{\\mathbf{#1}}a x^{2} + b x + 2</script></html>"
      ],
      "text/latex": [
       "\\begin{math}\n",
       "\\newcommand{\\Bold}[1]{\\mathbf{#1}}a x^{2} + b x + 2\n",
       "\\end{math}"
      ],
      "text/plain": [
       "a*x^2 + b*x + 2"
      ]
     },
     "metadata": {},
     "output_type": "display_data"
    }
   ],
   "source": [
    "show(g2(x))"
   ]
  },
  {
   "cell_type": "markdown",
   "id": "f5faab10",
   "metadata": {},
   "source": [
    "# 4 Questions"
   ]
  },
  {
   "cell_type": "markdown",
   "id": "9186cc16",
   "metadata": {},
   "source": [
    "## 4.1 Short background"
   ]
  },
  {
   "cell_type": "markdown",
   "id": "cd8ad9d6",
   "metadata": {},
   "source": [
    "At any future point in time, the number of individuals predicted under exponential growth is\n",
    "given by the general solutions for:\n",
    "\n",
    "The discrete-time model: $n_0 (1 + r)^t$\n",
    "\n",
    "The continuous-time model: $n_0 e^{rt}$\n",
    "\n",
    "Note that these are functions of three things: $t$, $r$, $n_0$."
   ]
  },
  {
   "cell_type": "markdown",
   "id": "efaa1961",
   "metadata": {},
   "source": [
    "### 4.1.1 Question 1: Define the discrete and continuous functions"
   ]
  },
  {
   "cell_type": "markdown",
   "id": "7be5534c",
   "metadata": {},
   "source": [
    "Write the functions in Maxima language, using \"nd\" as the variable name to describe the number of individuals in the discrete-time model and \"nc\" in the continuous-time model."
   ]
  },
  {
   "cell_type": "code",
   "execution_count": null,
   "id": "9f86d731",
   "metadata": {},
   "outputs": [],
   "source": []
  },
  {
   "cell_type": "code",
   "execution_count": null,
   "id": "7151189f",
   "metadata": {},
   "outputs": [],
   "source": []
  },
  {
   "cell_type": "markdown",
   "id": "68da8d74",
   "metadata": {},
   "source": [
    "### 4.1.2 Question 2: Evaluate population sizes at t=20"
   ]
  },
  {
   "cell_type": "markdown",
   "id": "6b1fbf39",
   "metadata": {},
   "source": [
    "What are the population sizes under the two models with the follow parameters and starting\n",
    "condition? \n",
    "$t = 20$\n",
    "$r = 0.2$\n",
    "$n_0 = 2$"
   ]
  },
  {
   "cell_type": "code",
   "execution_count": null,
   "id": "23f1122a",
   "metadata": {},
   "outputs": [],
   "source": []
  },
  {
   "cell_type": "code",
   "execution_count": null,
   "id": "b16a02e6",
   "metadata": {},
   "outputs": [],
   "source": []
  },
  {
   "cell_type": "markdown",
   "id": "cc1026da",
   "metadata": {},
   "source": [
    "### 4.1.3 Question 3: Compare discrete time to continuous time models"
   ]
  },
  {
   "cell_type": "markdown",
   "id": "0bb3e904",
   "metadata": {},
   "source": [
    "Which model has the higher population size and by how much?"
   ]
  },
  {
   "cell_type": "code",
   "execution_count": null,
   "id": "32ca01ef",
   "metadata": {},
   "outputs": [],
   "source": []
  },
  {
   "cell_type": "markdown",
   "id": "dd03b96c",
   "metadata": {},
   "source": [
    "### Question 4: Plot functions"
   ]
  },
  {
   "cell_type": "markdown",
   "id": "6cf80ed2",
   "metadata": {},
   "source": [
    "Plot the two functions from $t=0$ to $20$ for $r = 0.2$ & $n_0=2$.  "
   ]
  },
  {
   "cell_type": "code",
   "execution_count": null,
   "id": "cf2bd312",
   "metadata": {},
   "outputs": [],
   "source": []
  },
  {
   "cell_type": "markdown",
   "id": "abf429e2",
   "metadata": {},
   "source": [
    "# 5 Tips"
   ]
  },
  {
   "cell_type": "markdown",
   "id": "c40b5ed1",
   "metadata": {},
   "source": [
    "# 6 Extras"
   ]
  },
  {
   "cell_type": "markdown",
   "id": "9e2a09d4",
   "metadata": {},
   "source": [
    "Recursion EQs describe the population at discrete points in time. Above we plotted the solution using ```plot```, which treats time continuously along the x-axis. If you want to just see the discrete-time solutions, the easiest way is to  make a list of x & y points before you plot "
   ]
  },
  {
   "cell_type": "code",
   "execution_count": null,
   "id": "086aaf1b",
   "metadata": {},
   "outputs": [],
   "source": []
  }
 ],
 "metadata": {
  "kernelspec": {
   "display_name": "SageMath 9.2",
   "language": "sage",
   "name": "sagemath"
  },
  "language_info": {
   "codemirror_mode": {
    "name": "ipython",
    "version": 3
   },
   "file_extension": ".py",
   "mimetype": "text/x-python",
   "name": "python",
   "nbconvert_exporter": "python",
   "pygments_lexer": "ipython3",
   "version": "3.9.6"
  }
 },
 "nbformat": 4,
 "nbformat_minor": 5
}
