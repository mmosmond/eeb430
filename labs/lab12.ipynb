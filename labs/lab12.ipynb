{
 "cells": [
  {
   "cell_type": "markdown",
   "id": "6f891e38-a384-4b61-9a8c-ddf372912829",
   "metadata": {},
   "source": [
    "# Lab 12: A stochastic model of evolution"
   ]
  },
  {
   "cell_type": "markdown",
   "id": "41649a1d-bcc1-40e5-881a-4edc4a206fa2",
   "metadata": {},
   "source": [
    "In today's lab we'll see how we can simulate a stochastic model of evolution. We'll start with our deterministic model of haploid selection, where the frequency of the A allele in the next generation is\n",
    "\n",
    "$\\displaystyle{p(t+1) = \\frac{p(t)W_A}{p(t)W_A + (1-p(t))W_a}}$\n",
    "\n",
    "Now imagine that $p(t+1)$ does not give the frequency in the next generation. Instead, imagine all $N$ individuals in the population producing a very large number of gametes, in proportion to their fitness, from which $N$ are chosen at random to make the next generation. Then $p(t+1)$ is the fraction of that large number of gametes with allele A. Sampling $N$ of these gametes, the probability we sample $X(t+1)=j$ with allele A given there were $X(t)=i$ with allele A in the previous generation (i.e., $p(t)=i/N$) is then given by a **binomial distribution**\n",
    "\n",
    "$\\displaystyle{p_{ji} = P(X(t+1)=j | X(t)=i) = {N \\choose j}p(t+1)^j(1-p(t+1))^{N-j}}$\n",
    "\n",
    "This is the haploid **Wright-Fisher model** (section 13.4 in the text). What this says is that the number of A alleles in the next generation is binomially distributed with $N$ trials and probability of success $p(t+1)$. This tells us how to simulate this process."
   ]
  },
  {
   "cell_type": "markdown",
   "id": "96ba5a20-31a8-4b0a-b740-6bb0ec22a527",
   "metadata": {},
   "source": [
    "For example, if the population size was $N=100$ and the fraction of A gametes was $p(t+1)=0.1$, we can stochastically choose the number of A alleles in the next generation"
   ]
  },
  {
   "cell_type": "code",
   "execution_count": null,
   "id": "e060a6c7-b8be-4a0e-9ca0-6ea6623da292",
   "metadata": {},
   "outputs": [],
   "source": [
    "from numpy.random import binomial #import a binomial sampler\n",
    "binomial(100,0.1) #make a draw from the binomial distribution with N=100 trials and p=0.1 probability of success"
   ]
  },
  {
   "cell_type": "markdown",
   "id": "508cbc5c-4ab4-449b-b96b-f8590fe62a0a",
   "metadata": {},
   "source": [
    "One interesting case is when there is no selection, $W_A=W_a$. Our deterministic recursion then gives $p(t+1)=p(t)$, i.e., no change in frequency, i.e., no evolution. But what happens in a stochastic version of this model?"
   ]
  },
  {
   "cell_type": "code",
   "execution_count": null,
   "id": "737810b2-5098-482e-ba1d-62f4004dda18",
   "metadata": {},
   "outputs": [],
   "source": [
    "N = 100 #population size\n",
    "tmax = 2*N #number of generations to simulate\n",
    "\n",
    "t = 0 #starting time\n",
    "p = 0.5 #starting frequency\n",
    "tps = [[t,p]] #list of times and frequencies\n",
    "while t < tmax:\n",
    "    pnext = p #frequency of A among gametes\n",
    "    p = binomial(N,pnext)/N #the numer of A alleles in the next generation is binomially distributed with N trials and probability of success pnext, and then we divide by N to get the frequency \n",
    "    t = t + 1 #update time\n",
    "    tps.append([t,p])\n",
    "    \n",
    "list_plot(tps, plotjoined=True, ymin=0, ymax=1, axes_labels=['generation','p'])"
   ]
  },
  {
   "cell_type": "markdown",
   "id": "2c38b0d1-0062-45ac-b1d3-c1f9ef87692b",
   "metadata": {},
   "source": [
    "This is radically different: we now see the frequency change dramatically and in many cases we fix either the A or a allele. This change in allele frequency -- evolution -- caused by random sampling is called **genetic drift**."
   ]
  },
  {
   "cell_type": "markdown",
   "id": "499e5dc4-8fea-4df2-8ae0-f61be12f9abc",
   "metadata": {},
   "source": [
    "**Q1** Simulate this process 10 times, with the same parameter values as above, and plot all the allele frequency trajectories together in one plot."
   ]
  },
  {
   "cell_type": "code",
   "execution_count": null,
   "id": "1a02b8b6-532c-44de-955a-f98ec6e18bea",
   "metadata": {},
   "outputs": [],
   "source": []
  },
  {
   "cell_type": "markdown",
   "id": "de58bbe2-15b5-45c4-b418-e1862cda2442",
   "metadata": {},
   "source": [
    "**Q2** In how many instances was the A allele lost? In how many instances did A fix (ie, the a allele was lost)? In how many were A and a still segregating?"
   ]
  },
  {
   "cell_type": "code",
   "execution_count": null,
   "id": "21752fa7-2bac-447e-8f6a-94ec95a616c8",
   "metadata": {},
   "outputs": [],
   "source": []
  },
  {
   "cell_type": "markdown",
   "id": "cdbab8c0-659c-4995-af93-77e4dc87a85c",
   "metadata": {},
   "source": [
    "**Q3** Now imagine $W_A=1.1$ and $W_a=1$, so the A allele is beneficial. Start with the A allele at frequency $p(0)=0.5$. What is the expected frequency in the next generation from our deterministic recursion?"
   ]
  },
  {
   "cell_type": "code",
   "execution_count": null,
   "id": "b1915807-6e92-4179-a9fd-2a2beb451b24",
   "metadata": {},
   "outputs": [],
   "source": []
  },
  {
   "cell_type": "markdown",
   "id": "80581d48-846c-478e-9799-d36dce002448",
   "metadata": {},
   "source": [
    "**Q4** Sample from a binomial distribution with $N=100$ trials and the probability of success given by your answer in Q3. This gives the numeber of A alleles in the next generation."
   ]
  },
  {
   "cell_type": "code",
   "execution_count": null,
   "id": "3ac35e08-c062-4384-96a2-1ab4b69cd643",
   "metadata": {},
   "outputs": [],
   "source": []
  },
  {
   "cell_type": "markdown",
   "id": "40e57044-9295-4dbd-af09-af3fa2ff1392",
   "metadata": {},
   "source": [
    "**Q5** Now what is the frequency of the A allele in this next generation?"
   ]
  },
  {
   "cell_type": "code",
   "execution_count": null,
   "id": "1f45e34f-5fe2-4211-a1d5-e65d5e997f34",
   "metadata": {},
   "outputs": [],
   "source": []
  },
  {
   "cell_type": "markdown",
   "id": "74509ce3-d461-416f-abbf-8945f28d4db3",
   "metadata": {},
   "source": [
    "**Q6** Write a while loop that updates the frequency over successive generations, simulating the Wright-Fisher with selection. Hint, you should be able to do this by changing just pnext in the neutral example above."
   ]
  },
  {
   "cell_type": "code",
   "execution_count": null,
   "id": "84c6a8f2-c769-4ea7-b487-48ae75b75b8b",
   "metadata": {},
   "outputs": [],
   "source": []
  },
  {
   "cell_type": "markdown",
   "id": "a118bb40-91a0-44d8-87e3-29c5e051088f",
   "metadata": {},
   "source": [
    "**Q7** Run 10 replicates with the same parameters as the neutral simulations, and $W_A=1.1$, $W_a=1$. Plot the allele frequency trajectories of the 10 replicates on the same plot."
   ]
  },
  {
   "cell_type": "code",
   "execution_count": null,
   "id": "2b93e4a3-70d1-444c-8e9b-d172096bb990",
   "metadata": {},
   "outputs": [],
   "source": []
  },
  {
   "cell_type": "markdown",
   "id": "10fc3ce7-cc7d-41cb-8f11-4a6d8880b026",
   "metadata": {},
   "source": [
    "**Q8** Now how many times did the A allele fix?"
   ]
  },
  {
   "cell_type": "code",
   "execution_count": null,
   "id": "4e18454f-b78c-499f-80e2-8a46eb62b396",
   "metadata": {},
   "outputs": [],
   "source": []
  },
  {
   "cell_type": "markdown",
   "id": "dceca75a-2af9-47a4-820a-31f9291a2f58",
   "metadata": {},
   "source": [
    "If you have time, try varying the value of $W_A$ (or $N$) to modulate the relative strengths of natural selection and genetic drift."
   ]
  },
  {
   "cell_type": "code",
   "execution_count": null,
   "id": "3be894af-72ab-48ad-bb97-4748806e383f",
   "metadata": {},
   "outputs": [],
   "source": []
  }
 ],
 "metadata": {
  "kernelspec": {
   "display_name": "SageMath 9.2",
   "language": "sage",
   "name": "sagemath"
  },
  "language_info": {
   "codemirror_mode": {
    "name": "ipython",
    "version": 3
   },
   "file_extension": ".py",
   "mimetype": "text/x-python",
   "name": "python",
   "nbconvert_exporter": "python",
   "pygments_lexer": "ipython3",
   "version": "3.9.6"
  }
 },
 "nbformat": 4,
 "nbformat_minor": 5
}
