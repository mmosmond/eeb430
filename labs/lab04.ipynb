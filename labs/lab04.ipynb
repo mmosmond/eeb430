{
 "cells": [
  {
   "cell_type": "markdown",
   "id": "00ffb4aa-c385-4be6-9a77-f77aae10010b",
   "metadata": {},
   "source": [
    "# Lab 4: equilibria and stability in univariate models"
   ]
  },
  {
   "cell_type": "markdown",
   "id": "c1ed1cad-4223-428b-a742-60ff508f49c0",
   "metadata": {},
   "source": [
    "In this lab we'll practice finding equilibria and determining their local stability in SageMath. We've dealt with some relatively simple models in the lecture and tutorial, where working by hand isn't too much of a problem, but in reality the models we want to analyze are often more complicated and are much more easily handled with a computer. "
   ]
  },
  {
   "cell_type": "markdown",
   "id": "fca07eef-f57e-476c-a269-18b049cf0a0a",
   "metadata": {},
   "source": [
    "## Diploid selection"
   ]
  },
  {
   "cell_type": "markdown",
   "id": "d149a68d-61fa-48cc-bb0b-b804d8b665d8",
   "metadata": {},
   "source": [
    "Today we'll work through the discrete-time model of diploid-selection. As you may remember from Assignment 3, this is already complicated enough to require a lot of algebra, so let's see how we can do this in SageMath."
   ]
  },
  {
   "cell_type": "markdown",
   "id": "64844d40-465b-4ca0-b827-8b440b44132e",
   "metadata": {},
   "source": [
    "Now that we're more familiar with SageMath we'll skip any demonstration and get straight into some questions. You may want to refer back to previous labs to remind yourself how to proceed when you get stuck."
   ]
  },
  {
   "cell_type": "markdown",
   "id": "d691c504-c57e-4b58-a1de-a31bb663499d",
   "metadata": {},
   "source": [
    "**Q1.** First, define the parameters ($W_{AA}$, $W_{Aa}$, $W_{aa}$), the variable ($p$), and the recursion equation \n",
    "\n",
    "$p(t+1) = \\frac{W_{AA} p(t)^2 + W_{Aa} p(t) (1-p(t))}{W_{AA} p(t)^2 + W_{Aa} 2 p(t) (1-p(t)) + W_{aa} (1-p(t))^2}$"
   ]
  },
  {
   "cell_type": "code",
   "execution_count": null,
   "id": "12bd6e26-9866-4e10-862e-4844ad71405b",
   "metadata": {},
   "outputs": [],
   "source": []
  },
  {
   "cell_type": "markdown",
   "id": "24117b8a-c502-44b9-b8b4-e8d0196a7239",
   "metadata": {},
   "source": [
    "**Q2.** Now find the equilibria by asking where the $p(t+1) = p(t)$"
   ]
  },
  {
   "cell_type": "code",
   "execution_count": null,
   "id": "e9c231b4-d1fd-4a49-b803-b1132b4144cf",
   "metadata": {},
   "outputs": [],
   "source": []
  },
  {
   "cell_type": "markdown",
   "id": "c56977a7-d2ae-4d88-93a4-948108f1616f",
   "metadata": {},
   "source": [
    "**Q3.** When is the polymorphic equilibrium (the equilibrium where we potentially have both alleles in the population) biologically valid? (hint: if we want to know when x < 1 it is sometimes easier to ask when x - 1 < 0)"
   ]
  },
  {
   "cell_type": "code",
   "execution_count": null,
   "id": "b5baa1f4-a29c-42c5-a156-3eb1fbe80c25",
   "metadata": {},
   "outputs": [],
   "source": []
  },
  {
   "cell_type": "markdown",
   "id": "b44decbb-1cc8-4228-8cbe-94b70068e85d",
   "metadata": {},
   "source": [
    "**Q4.**  Now we want to know whether these equilibria are locally stable. As discussed in the lecture/tutorial/readings, local stability is determined by the slope of the recursion at the equilibrium. So let's first take the derivative of of recursion with respect to $p(t)$"
   ]
  },
  {
   "cell_type": "code",
   "execution_count": null,
   "id": "11c669de-1d69-4689-b0aa-64deb7d7768c",
   "metadata": {},
   "outputs": [],
   "source": []
  },
  {
   "cell_type": "markdown",
   "id": "85c8c3b0-7a94-4ff9-9bbb-ef72bcb854f9",
   "metadata": {},
   "source": [
    "**Q5.** And let's next substitute in an equilibrium value of $p$, say $p=0$, into our derivative"
   ]
  },
  {
   "cell_type": "code",
   "execution_count": null,
   "id": "6d41c329-5fb1-4269-b582-33e9437f3764",
   "metadata": {},
   "outputs": [],
   "source": []
  },
  {
   "cell_type": "markdown",
   "id": "c766e02e-dc81-4585-873c-6b456185e4ff",
   "metadata": {},
   "source": [
    "**Q6.** Recalling the lectures/tutorials/readings, what do we need to be true for the $p=0$ equilibrium to be stable? Briefly state why this makes sense biologically. Biologically, why doesn't the $W_{AA}$ parameter matter in this case?"
   ]
  },
  {
   "cell_type": "code",
   "execution_count": null,
   "id": "f4c3d62f-eb53-4bba-9510-b1ec7815fdc2",
   "metadata": {},
   "outputs": [],
   "source": []
  },
  {
   "cell_type": "markdown",
   "id": "c68aa82f-d48d-4cd8-bf27-6174c300ea18",
   "metadata": {},
   "source": [
    "**Q7.** The same reasoning holds for the $p=1$ equilbrium when we switch the labels of the $A$ and $a$ alleles. So let's skip that and move on to the more complicated polymorphic equilibrium. What is the derivative of the recursion at this equilibrium?"
   ]
  },
  {
   "cell_type": "code",
   "execution_count": null,
   "id": "373c7057-6b39-47d1-b71f-31126147d7b8",
   "metadata": {},
   "outputs": [],
   "source": []
  },
  {
   "cell_type": "markdown",
   "id": "1f18caaf-e57b-4454-b6d8-7dcfee9ba117",
   "metadata": {},
   "source": [
    "**Q8.** We need this between -1 and 1 for stability. But let's first ask when we'll see oscillatory dynamics. That is, when is the derivative calculated above less than 0? (hint: you can set WAa=1 so that WAA and Waa are the fitnesses of AA and aa relative to Aa; and remember to only worry about the parameter choices that give biologically relevant equilibria, as calculated in Q3)"
   ]
  },
  {
   "cell_type": "code",
   "execution_count": null,
   "id": "6349b7ee-066b-4b17-b28f-dc97f6be001d",
   "metadata": {},
   "outputs": [],
   "source": []
  },
  {
   "cell_type": "markdown",
   "id": "8add5869-b3b5-4831-83d1-565f6a549f2f",
   "metadata": {},
   "source": [
    "**Q9.** Now let's determine local stability by asking when the derivative is between -1 and 1 (hint: use what you just learned about the sign of the derivative just above to reduce the amount of work you need to do here, ie you only need to consider one inequality)"
   ]
  },
  {
   "cell_type": "code",
   "execution_count": null,
   "id": "3a943209-17c1-41d1-9451-8765a5bbf655",
   "metadata": {},
   "outputs": [],
   "source": []
  },
  {
   "cell_type": "markdown",
   "id": "014ba662-bbc6-43e2-aefa-6fc0687a5936",
   "metadata": {},
   "source": [
    "**Q10.** Interpret the result biologically -- why is it that we only have a stable polymorphic equilibrium when the heterozygote has the highest fitness?"
   ]
  },
  {
   "cell_type": "code",
   "execution_count": null,
   "id": "d90cce28-5045-4ac7-b0c6-d9086832a58a",
   "metadata": {},
   "outputs": [],
   "source": []
  }
 ],
 "metadata": {
  "kernelspec": {
   "display_name": "SageMath 9.2",
   "language": "sage",
   "name": "sagemath"
  },
  "language_info": {
   "codemirror_mode": {
    "name": "ipython",
    "version": 3
   },
   "file_extension": ".py",
   "mimetype": "text/x-python",
   "name": "python",
   "nbconvert_exporter": "python",
   "pygments_lexer": "ipython3",
   "version": "3.9.6"
  }
 },
 "nbformat": 4,
 "nbformat_minor": 5
}
