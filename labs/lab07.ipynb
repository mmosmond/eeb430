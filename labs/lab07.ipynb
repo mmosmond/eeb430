{
 "cells": [
  {
   "cell_type": "markdown",
   "id": "c1064407-cfe7-49e4-9daa-59a0aa2637f8",
   "metadata": {},
   "source": [
    "# Lab 7 - multivariate models"
   ]
  },
  {
   "cell_type": "markdown",
   "id": "e12f3458-5c0e-4049-8626-20b87e60ff89",
   "metadata": {},
   "source": [
    "OK, now that we've learned how to find the equilibria and determine local stability of multivariate models by hand, let's see how we can get SageMath to do it for us."
   ]
  },
  {
   "cell_type": "markdown",
   "id": "3fd98f27-b4b4-488f-a040-28100545fbb3",
   "metadata": {},
   "source": [
    "In tutorial we discussed an epidemiological model, in the assignment we deal with the Lotka-Volterra model of competition, and here we'll look at a model of predation. (See chapter 8 in the text for a multivariate population genetic model)."
   ]
  },
  {
   "cell_type": "markdown",
   "id": "b32320c4-2ef8-4326-af65-15ddee231f40",
   "metadata": {},
   "source": [
    "Let's look at the so-called Rosenzweig-MacArthur model of predator and prey."
   ]
  },
  {
   "cell_type": "markdown",
   "id": "e5b2a467-e02d-4682-82e4-2bbd5ed29658",
   "metadata": {},
   "source": [
    "This model assumes that the density of prey, $N$, grows logistically in the absence of predators, with per capita growth rate $r$ and carrying capacity $K$. Predators, with density $P$, consume prey at a per prey per predator rate of $a/(1+b N)$. This is because, while increasing prey density will increase the rate at which predators catch prey, consuming prey takes time, and so there is an upper limit in the rate at which a predator can consume prey. Finally, we assume each consumed prey is converted into a fraction $c$ new predators, and that predators die at per capita rate $d$. Putting all this together in a continuous-time model we have\n",
    "\n",
    "$\\frac{\\mathrm{d}N}{\\mathrm{d}t} = r N (1 - N / K) - \\frac{a}{1 + b N} N P$\n",
    "\n",
    "$\\frac{\\mathrm{d}P}{\\mathrm{d}t} = c\\frac{a}{1 + b N} N P - d P$"
   ]
  },
  {
   "cell_type": "markdown",
   "id": "d49a4526-8e3e-489b-9c75-439d1c0de477",
   "metadata": {},
   "source": [
    "**Q1.** [1 point] What are the equilibria of this model?"
   ]
  },
  {
   "cell_type": "markdown",
   "id": "e8ca7976-a393-4417-b73d-62898515b42b",
   "metadata": {},
   "source": [
    "**Q2.** [2 points] Which of these are biologically valid? When? What do they represent biologically? [hint, try simplifying the most complicated expression for P at equilibrium, the denominator simplifies to a square]"
   ]
  },
  {
   "cell_type": "markdown",
   "id": "259dfcca-7f47-4830-a8f2-bea07b78c9ac",
   "metadata": {},
   "source": [
    "**Q3.** [1 point] To determine stability, let's first calculate the Jacobian of our system."
   ]
  },
  {
   "cell_type": "markdown",
   "id": "1a9a00b4-88ee-4de5-8929-cd159f860867",
   "metadata": {},
   "source": [
    "**Q4.** [1 point] Now let's evaluate the Jacobian at the coexistence equilibrium (where both prey and predator have a positive density)"
   ]
  },
  {
   "cell_type": "markdown",
   "id": "f5bc5f01-90bd-4cd9-abea-5023cda2df72",
   "metadata": {},
   "source": [
    "**Q5.** [1 point] And now let's get the eigenvalues of this matrix"
   ]
  },
  {
   "cell_type": "markdown",
   "id": "4e2333de-f166-4ffa-a1e2-83a48b9b404d",
   "metadata": {},
   "source": [
    "**Q6.** [1 point] OK, so those are a bit complex, so let's instead look at the trace and determinant"
   ]
  },
  {
   "cell_type": "markdown",
   "id": "606907b4-a77a-429c-a8b2-89b36feab24d",
   "metadata": {},
   "source": [
    "**Q7.** [2 points - challenging!] For stability in a two-variable system we need a positive determinant and a negative trace (Routh-Hurwitz conditions). Given what we know from above about when this equilibrium is biologically valid, what do we need, in addition, for it to be stable? [hint, express the condition for a negative trace in terms of the equilibrium value of N]"
   ]
  },
  {
   "cell_type": "markdown",
   "id": "e14c76c4-72a9-4a4e-a123-ee0c39fe96bb",
   "metadata": {},
   "source": [
    "**Q8.** [1 point] What then does increasing the carrying capacity of the prey do to stability of this equilibrium? This is termed **the paradox of enrichment**, because we can think of $K$ as representing the amount of resources in the system."
   ]
  },
  {
   "cell_type": "markdown",
   "id": "61c9af6f-1125-4d6e-be55-9379c3b19582",
   "metadata": {},
   "source": [
    "**Q9.** [1 point] Find the null clines for this model"
   ]
  },
  {
   "cell_type": "markdown",
   "id": "23273a29-f8ef-4942-bab4-0e9f35c2272c",
   "metadata": {},
   "source": [
    "**Q10.** [1 point] Plot the null clines in a plot of $P$ vs $N$ with $r=0.1$, $K=10$, $a=0.05$, $b=0.1$, $c=0.1$, $d=0.02$. Color the N and P null clines differently."
   ]
  },
  {
   "cell_type": "markdown",
   "id": "317b6c28-3449-4f74-b02c-cbf9195a9ae3",
   "metadata": {},
   "source": [
    "**Q11.** [1 point] Plot the null clines after increasing the carrying capacity of prey to $K=100$"
   ]
  },
  {
   "cell_type": "markdown",
   "id": "c5471480-70b7-41a3-9a6d-8245c47d378d",
   "metadata": {},
   "source": [
    "**Q12.** [2 points] Find the value of N that maximizes the parabolic N null cline. What does this imply about the null clines and stability of the coexistence equilibirum?"
   ]
  },
  {
   "cell_type": "code",
   "execution_count": null,
   "id": "84454a0c-092e-4669-939d-ec943d0240e7",
   "metadata": {},
   "outputs": [],
   "source": []
  }
 ],
 "metadata": {
  "kernelspec": {
   "display_name": "SageMath 9.2",
   "language": "sage",
   "name": "sagemath"
  },
  "language_info": {
   "codemirror_mode": {
    "name": "ipython",
    "version": 3
   },
   "file_extension": ".py",
   "mimetype": "text/x-python",
   "name": "python",
   "nbconvert_exporter": "python",
   "pygments_lexer": "ipython3",
   "version": "3.9.6"
  }
 },
 "nbformat": 4,
 "nbformat_minor": 5
}
